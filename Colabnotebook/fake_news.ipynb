{
  "nbformat": 4,
  "nbformat_minor": 0,
  "metadata": {
    "colab": {
      "provenance": [],
      "gpuType": "T4"
    },
    "kernelspec": {
      "name": "python3",
      "display_name": "Python 3"
    },
    "language_info": {
      "name": "python"
    },
    "accelerator": "GPU",
    "widgets": {
      "application/vnd.jupyter.widget-state+json": {
        "dfbd7d69bf7e47298f7282af5267b908": {
          "model_module": "@jupyter-widgets/controls",
          "model_name": "HBoxModel",
          "model_module_version": "1.5.0",
          "state": {
            "_dom_classes": [],
            "_model_module": "@jupyter-widgets/controls",
            "_model_module_version": "1.5.0",
            "_model_name": "HBoxModel",
            "_view_count": null,
            "_view_module": "@jupyter-widgets/controls",
            "_view_module_version": "1.5.0",
            "_view_name": "HBoxView",
            "box_style": "",
            "children": [
              "IPY_MODEL_20a1ea07e925477a842a9e2e167551c6",
              "IPY_MODEL_a9fcfd98d4664490a00b548ca4888a0f",
              "IPY_MODEL_c8267beef8ea4acd895b3b218d203b20"
            ],
            "layout": "IPY_MODEL_74f6c5df0e1d4f2d9ea0c1bc32bac761"
          }
        },
        "20a1ea07e925477a842a9e2e167551c6": {
          "model_module": "@jupyter-widgets/controls",
          "model_name": "HTMLModel",
          "model_module_version": "1.5.0",
          "state": {
            "_dom_classes": [],
            "_model_module": "@jupyter-widgets/controls",
            "_model_module_version": "1.5.0",
            "_model_name": "HTMLModel",
            "_view_count": null,
            "_view_module": "@jupyter-widgets/controls",
            "_view_module_version": "1.5.0",
            "_view_name": "HTMLView",
            "description": "",
            "description_tooltip": null,
            "layout": "IPY_MODEL_16da871968344475a245d72256c6180c",
            "placeholder": "​",
            "style": "IPY_MODEL_5a2378e9916e4d21b5ca41676b5ff2f0",
            "value": "tokenizer_config.json: 100%"
          }
        },
        "a9fcfd98d4664490a00b548ca4888a0f": {
          "model_module": "@jupyter-widgets/controls",
          "model_name": "FloatProgressModel",
          "model_module_version": "1.5.0",
          "state": {
            "_dom_classes": [],
            "_model_module": "@jupyter-widgets/controls",
            "_model_module_version": "1.5.0",
            "_model_name": "FloatProgressModel",
            "_view_count": null,
            "_view_module": "@jupyter-widgets/controls",
            "_view_module_version": "1.5.0",
            "_view_name": "ProgressView",
            "bar_style": "success",
            "description": "",
            "description_tooltip": null,
            "layout": "IPY_MODEL_b20f8d6c4eb748cca4efb03a7bda752d",
            "max": 48,
            "min": 0,
            "orientation": "horizontal",
            "style": "IPY_MODEL_4ec81d572789426d9e29e3ac31aadff2",
            "value": 48
          }
        },
        "c8267beef8ea4acd895b3b218d203b20": {
          "model_module": "@jupyter-widgets/controls",
          "model_name": "HTMLModel",
          "model_module_version": "1.5.0",
          "state": {
            "_dom_classes": [],
            "_model_module": "@jupyter-widgets/controls",
            "_model_module_version": "1.5.0",
            "_model_name": "HTMLModel",
            "_view_count": null,
            "_view_module": "@jupyter-widgets/controls",
            "_view_module_version": "1.5.0",
            "_view_name": "HTMLView",
            "description": "",
            "description_tooltip": null,
            "layout": "IPY_MODEL_7c340b07da0a42d0975fbc187bdf584f",
            "placeholder": "​",
            "style": "IPY_MODEL_1a232ab5db6046508d4f076da4d4f298",
            "value": " 48.0/48.0 [00:00&lt;00:00, 2.44kB/s]"
          }
        },
        "74f6c5df0e1d4f2d9ea0c1bc32bac761": {
          "model_module": "@jupyter-widgets/base",
          "model_name": "LayoutModel",
          "model_module_version": "1.2.0",
          "state": {
            "_model_module": "@jupyter-widgets/base",
            "_model_module_version": "1.2.0",
            "_model_name": "LayoutModel",
            "_view_count": null,
            "_view_module": "@jupyter-widgets/base",
            "_view_module_version": "1.2.0",
            "_view_name": "LayoutView",
            "align_content": null,
            "align_items": null,
            "align_self": null,
            "border": null,
            "bottom": null,
            "display": null,
            "flex": null,
            "flex_flow": null,
            "grid_area": null,
            "grid_auto_columns": null,
            "grid_auto_flow": null,
            "grid_auto_rows": null,
            "grid_column": null,
            "grid_gap": null,
            "grid_row": null,
            "grid_template_areas": null,
            "grid_template_columns": null,
            "grid_template_rows": null,
            "height": null,
            "justify_content": null,
            "justify_items": null,
            "left": null,
            "margin": null,
            "max_height": null,
            "max_width": null,
            "min_height": null,
            "min_width": null,
            "object_fit": null,
            "object_position": null,
            "order": null,
            "overflow": null,
            "overflow_x": null,
            "overflow_y": null,
            "padding": null,
            "right": null,
            "top": null,
            "visibility": null,
            "width": null
          }
        },
        "16da871968344475a245d72256c6180c": {
          "model_module": "@jupyter-widgets/base",
          "model_name": "LayoutModel",
          "model_module_version": "1.2.0",
          "state": {
            "_model_module": "@jupyter-widgets/base",
            "_model_module_version": "1.2.0",
            "_model_name": "LayoutModel",
            "_view_count": null,
            "_view_module": "@jupyter-widgets/base",
            "_view_module_version": "1.2.0",
            "_view_name": "LayoutView",
            "align_content": null,
            "align_items": null,
            "align_self": null,
            "border": null,
            "bottom": null,
            "display": null,
            "flex": null,
            "flex_flow": null,
            "grid_area": null,
            "grid_auto_columns": null,
            "grid_auto_flow": null,
            "grid_auto_rows": null,
            "grid_column": null,
            "grid_gap": null,
            "grid_row": null,
            "grid_template_areas": null,
            "grid_template_columns": null,
            "grid_template_rows": null,
            "height": null,
            "justify_content": null,
            "justify_items": null,
            "left": null,
            "margin": null,
            "max_height": null,
            "max_width": null,
            "min_height": null,
            "min_width": null,
            "object_fit": null,
            "object_position": null,
            "order": null,
            "overflow": null,
            "overflow_x": null,
            "overflow_y": null,
            "padding": null,
            "right": null,
            "top": null,
            "visibility": null,
            "width": null
          }
        },
        "5a2378e9916e4d21b5ca41676b5ff2f0": {
          "model_module": "@jupyter-widgets/controls",
          "model_name": "DescriptionStyleModel",
          "model_module_version": "1.5.0",
          "state": {
            "_model_module": "@jupyter-widgets/controls",
            "_model_module_version": "1.5.0",
            "_model_name": "DescriptionStyleModel",
            "_view_count": null,
            "_view_module": "@jupyter-widgets/base",
            "_view_module_version": "1.2.0",
            "_view_name": "StyleView",
            "description_width": ""
          }
        },
        "b20f8d6c4eb748cca4efb03a7bda752d": {
          "model_module": "@jupyter-widgets/base",
          "model_name": "LayoutModel",
          "model_module_version": "1.2.0",
          "state": {
            "_model_module": "@jupyter-widgets/base",
            "_model_module_version": "1.2.0",
            "_model_name": "LayoutModel",
            "_view_count": null,
            "_view_module": "@jupyter-widgets/base",
            "_view_module_version": "1.2.0",
            "_view_name": "LayoutView",
            "align_content": null,
            "align_items": null,
            "align_self": null,
            "border": null,
            "bottom": null,
            "display": null,
            "flex": null,
            "flex_flow": null,
            "grid_area": null,
            "grid_auto_columns": null,
            "grid_auto_flow": null,
            "grid_auto_rows": null,
            "grid_column": null,
            "grid_gap": null,
            "grid_row": null,
            "grid_template_areas": null,
            "grid_template_columns": null,
            "grid_template_rows": null,
            "height": null,
            "justify_content": null,
            "justify_items": null,
            "left": null,
            "margin": null,
            "max_height": null,
            "max_width": null,
            "min_height": null,
            "min_width": null,
            "object_fit": null,
            "object_position": null,
            "order": null,
            "overflow": null,
            "overflow_x": null,
            "overflow_y": null,
            "padding": null,
            "right": null,
            "top": null,
            "visibility": null,
            "width": null
          }
        },
        "4ec81d572789426d9e29e3ac31aadff2": {
          "model_module": "@jupyter-widgets/controls",
          "model_name": "ProgressStyleModel",
          "model_module_version": "1.5.0",
          "state": {
            "_model_module": "@jupyter-widgets/controls",
            "_model_module_version": "1.5.0",
            "_model_name": "ProgressStyleModel",
            "_view_count": null,
            "_view_module": "@jupyter-widgets/base",
            "_view_module_version": "1.2.0",
            "_view_name": "StyleView",
            "bar_color": null,
            "description_width": ""
          }
        },
        "7c340b07da0a42d0975fbc187bdf584f": {
          "model_module": "@jupyter-widgets/base",
          "model_name": "LayoutModel",
          "model_module_version": "1.2.0",
          "state": {
            "_model_module": "@jupyter-widgets/base",
            "_model_module_version": "1.2.0",
            "_model_name": "LayoutModel",
            "_view_count": null,
            "_view_module": "@jupyter-widgets/base",
            "_view_module_version": "1.2.0",
            "_view_name": "LayoutView",
            "align_content": null,
            "align_items": null,
            "align_self": null,
            "border": null,
            "bottom": null,
            "display": null,
            "flex": null,
            "flex_flow": null,
            "grid_area": null,
            "grid_auto_columns": null,
            "grid_auto_flow": null,
            "grid_auto_rows": null,
            "grid_column": null,
            "grid_gap": null,
            "grid_row": null,
            "grid_template_areas": null,
            "grid_template_columns": null,
            "grid_template_rows": null,
            "height": null,
            "justify_content": null,
            "justify_items": null,
            "left": null,
            "margin": null,
            "max_height": null,
            "max_width": null,
            "min_height": null,
            "min_width": null,
            "object_fit": null,
            "object_position": null,
            "order": null,
            "overflow": null,
            "overflow_x": null,
            "overflow_y": null,
            "padding": null,
            "right": null,
            "top": null,
            "visibility": null,
            "width": null
          }
        },
        "1a232ab5db6046508d4f076da4d4f298": {
          "model_module": "@jupyter-widgets/controls",
          "model_name": "DescriptionStyleModel",
          "model_module_version": "1.5.0",
          "state": {
            "_model_module": "@jupyter-widgets/controls",
            "_model_module_version": "1.5.0",
            "_model_name": "DescriptionStyleModel",
            "_view_count": null,
            "_view_module": "@jupyter-widgets/base",
            "_view_module_version": "1.2.0",
            "_view_name": "StyleView",
            "description_width": ""
          }
        },
        "2c9d9d7e68434a7283ac8122b0922065": {
          "model_module": "@jupyter-widgets/controls",
          "model_name": "HBoxModel",
          "model_module_version": "1.5.0",
          "state": {
            "_dom_classes": [],
            "_model_module": "@jupyter-widgets/controls",
            "_model_module_version": "1.5.0",
            "_model_name": "HBoxModel",
            "_view_count": null,
            "_view_module": "@jupyter-widgets/controls",
            "_view_module_version": "1.5.0",
            "_view_name": "HBoxView",
            "box_style": "",
            "children": [
              "IPY_MODEL_82b6966c72cb435d8fa70545cc185255",
              "IPY_MODEL_0b387586d56743f3ae7ecf37472b4767",
              "IPY_MODEL_b6e8ca0358c34920a1772fa71dbb2ce2"
            ],
            "layout": "IPY_MODEL_04b9f47e672945e084f35dc80b0ca793"
          }
        },
        "82b6966c72cb435d8fa70545cc185255": {
          "model_module": "@jupyter-widgets/controls",
          "model_name": "HTMLModel",
          "model_module_version": "1.5.0",
          "state": {
            "_dom_classes": [],
            "_model_module": "@jupyter-widgets/controls",
            "_model_module_version": "1.5.0",
            "_model_name": "HTMLModel",
            "_view_count": null,
            "_view_module": "@jupyter-widgets/controls",
            "_view_module_version": "1.5.0",
            "_view_name": "HTMLView",
            "description": "",
            "description_tooltip": null,
            "layout": "IPY_MODEL_bd0350ef80c7424b8e789585b2c6ebb9",
            "placeholder": "​",
            "style": "IPY_MODEL_64e4239ece324b5bb431c5f398d6136d",
            "value": "vocab.txt: 100%"
          }
        },
        "0b387586d56743f3ae7ecf37472b4767": {
          "model_module": "@jupyter-widgets/controls",
          "model_name": "FloatProgressModel",
          "model_module_version": "1.5.0",
          "state": {
            "_dom_classes": [],
            "_model_module": "@jupyter-widgets/controls",
            "_model_module_version": "1.5.0",
            "_model_name": "FloatProgressModel",
            "_view_count": null,
            "_view_module": "@jupyter-widgets/controls",
            "_view_module_version": "1.5.0",
            "_view_name": "ProgressView",
            "bar_style": "success",
            "description": "",
            "description_tooltip": null,
            "layout": "IPY_MODEL_920f43b476554d9591bd5851c3a76409",
            "max": 231508,
            "min": 0,
            "orientation": "horizontal",
            "style": "IPY_MODEL_2875310426344d0286d17389ab6e5459",
            "value": 231508
          }
        },
        "b6e8ca0358c34920a1772fa71dbb2ce2": {
          "model_module": "@jupyter-widgets/controls",
          "model_name": "HTMLModel",
          "model_module_version": "1.5.0",
          "state": {
            "_dom_classes": [],
            "_model_module": "@jupyter-widgets/controls",
            "_model_module_version": "1.5.0",
            "_model_name": "HTMLModel",
            "_view_count": null,
            "_view_module": "@jupyter-widgets/controls",
            "_view_module_version": "1.5.0",
            "_view_name": "HTMLView",
            "description": "",
            "description_tooltip": null,
            "layout": "IPY_MODEL_b2edcf029269410c8bf131b2984d0805",
            "placeholder": "​",
            "style": "IPY_MODEL_aa4b8039bbc94507bd8276733b606586",
            "value": " 232k/232k [00:00&lt;00:00, 1.81MB/s]"
          }
        },
        "04b9f47e672945e084f35dc80b0ca793": {
          "model_module": "@jupyter-widgets/base",
          "model_name": "LayoutModel",
          "model_module_version": "1.2.0",
          "state": {
            "_model_module": "@jupyter-widgets/base",
            "_model_module_version": "1.2.0",
            "_model_name": "LayoutModel",
            "_view_count": null,
            "_view_module": "@jupyter-widgets/base",
            "_view_module_version": "1.2.0",
            "_view_name": "LayoutView",
            "align_content": null,
            "align_items": null,
            "align_self": null,
            "border": null,
            "bottom": null,
            "display": null,
            "flex": null,
            "flex_flow": null,
            "grid_area": null,
            "grid_auto_columns": null,
            "grid_auto_flow": null,
            "grid_auto_rows": null,
            "grid_column": null,
            "grid_gap": null,
            "grid_row": null,
            "grid_template_areas": null,
            "grid_template_columns": null,
            "grid_template_rows": null,
            "height": null,
            "justify_content": null,
            "justify_items": null,
            "left": null,
            "margin": null,
            "max_height": null,
            "max_width": null,
            "min_height": null,
            "min_width": null,
            "object_fit": null,
            "object_position": null,
            "order": null,
            "overflow": null,
            "overflow_x": null,
            "overflow_y": null,
            "padding": null,
            "right": null,
            "top": null,
            "visibility": null,
            "width": null
          }
        },
        "bd0350ef80c7424b8e789585b2c6ebb9": {
          "model_module": "@jupyter-widgets/base",
          "model_name": "LayoutModel",
          "model_module_version": "1.2.0",
          "state": {
            "_model_module": "@jupyter-widgets/base",
            "_model_module_version": "1.2.0",
            "_model_name": "LayoutModel",
            "_view_count": null,
            "_view_module": "@jupyter-widgets/base",
            "_view_module_version": "1.2.0",
            "_view_name": "LayoutView",
            "align_content": null,
            "align_items": null,
            "align_self": null,
            "border": null,
            "bottom": null,
            "display": null,
            "flex": null,
            "flex_flow": null,
            "grid_area": null,
            "grid_auto_columns": null,
            "grid_auto_flow": null,
            "grid_auto_rows": null,
            "grid_column": null,
            "grid_gap": null,
            "grid_row": null,
            "grid_template_areas": null,
            "grid_template_columns": null,
            "grid_template_rows": null,
            "height": null,
            "justify_content": null,
            "justify_items": null,
            "left": null,
            "margin": null,
            "max_height": null,
            "max_width": null,
            "min_height": null,
            "min_width": null,
            "object_fit": null,
            "object_position": null,
            "order": null,
            "overflow": null,
            "overflow_x": null,
            "overflow_y": null,
            "padding": null,
            "right": null,
            "top": null,
            "visibility": null,
            "width": null
          }
        },
        "64e4239ece324b5bb431c5f398d6136d": {
          "model_module": "@jupyter-widgets/controls",
          "model_name": "DescriptionStyleModel",
          "model_module_version": "1.5.0",
          "state": {
            "_model_module": "@jupyter-widgets/controls",
            "_model_module_version": "1.5.0",
            "_model_name": "DescriptionStyleModel",
            "_view_count": null,
            "_view_module": "@jupyter-widgets/base",
            "_view_module_version": "1.2.0",
            "_view_name": "StyleView",
            "description_width": ""
          }
        },
        "920f43b476554d9591bd5851c3a76409": {
          "model_module": "@jupyter-widgets/base",
          "model_name": "LayoutModel",
          "model_module_version": "1.2.0",
          "state": {
            "_model_module": "@jupyter-widgets/base",
            "_model_module_version": "1.2.0",
            "_model_name": "LayoutModel",
            "_view_count": null,
            "_view_module": "@jupyter-widgets/base",
            "_view_module_version": "1.2.0",
            "_view_name": "LayoutView",
            "align_content": null,
            "align_items": null,
            "align_self": null,
            "border": null,
            "bottom": null,
            "display": null,
            "flex": null,
            "flex_flow": null,
            "grid_area": null,
            "grid_auto_columns": null,
            "grid_auto_flow": null,
            "grid_auto_rows": null,
            "grid_column": null,
            "grid_gap": null,
            "grid_row": null,
            "grid_template_areas": null,
            "grid_template_columns": null,
            "grid_template_rows": null,
            "height": null,
            "justify_content": null,
            "justify_items": null,
            "left": null,
            "margin": null,
            "max_height": null,
            "max_width": null,
            "min_height": null,
            "min_width": null,
            "object_fit": null,
            "object_position": null,
            "order": null,
            "overflow": null,
            "overflow_x": null,
            "overflow_y": null,
            "padding": null,
            "right": null,
            "top": null,
            "visibility": null,
            "width": null
          }
        },
        "2875310426344d0286d17389ab6e5459": {
          "model_module": "@jupyter-widgets/controls",
          "model_name": "ProgressStyleModel",
          "model_module_version": "1.5.0",
          "state": {
            "_model_module": "@jupyter-widgets/controls",
            "_model_module_version": "1.5.0",
            "_model_name": "ProgressStyleModel",
            "_view_count": null,
            "_view_module": "@jupyter-widgets/base",
            "_view_module_version": "1.2.0",
            "_view_name": "StyleView",
            "bar_color": null,
            "description_width": ""
          }
        },
        "b2edcf029269410c8bf131b2984d0805": {
          "model_module": "@jupyter-widgets/base",
          "model_name": "LayoutModel",
          "model_module_version": "1.2.0",
          "state": {
            "_model_module": "@jupyter-widgets/base",
            "_model_module_version": "1.2.0",
            "_model_name": "LayoutModel",
            "_view_count": null,
            "_view_module": "@jupyter-widgets/base",
            "_view_module_version": "1.2.0",
            "_view_name": "LayoutView",
            "align_content": null,
            "align_items": null,
            "align_self": null,
            "border": null,
            "bottom": null,
            "display": null,
            "flex": null,
            "flex_flow": null,
            "grid_area": null,
            "grid_auto_columns": null,
            "grid_auto_flow": null,
            "grid_auto_rows": null,
            "grid_column": null,
            "grid_gap": null,
            "grid_row": null,
            "grid_template_areas": null,
            "grid_template_columns": null,
            "grid_template_rows": null,
            "height": null,
            "justify_content": null,
            "justify_items": null,
            "left": null,
            "margin": null,
            "max_height": null,
            "max_width": null,
            "min_height": null,
            "min_width": null,
            "object_fit": null,
            "object_position": null,
            "order": null,
            "overflow": null,
            "overflow_x": null,
            "overflow_y": null,
            "padding": null,
            "right": null,
            "top": null,
            "visibility": null,
            "width": null
          }
        },
        "aa4b8039bbc94507bd8276733b606586": {
          "model_module": "@jupyter-widgets/controls",
          "model_name": "DescriptionStyleModel",
          "model_module_version": "1.5.0",
          "state": {
            "_model_module": "@jupyter-widgets/controls",
            "_model_module_version": "1.5.0",
            "_model_name": "DescriptionStyleModel",
            "_view_count": null,
            "_view_module": "@jupyter-widgets/base",
            "_view_module_version": "1.2.0",
            "_view_name": "StyleView",
            "description_width": ""
          }
        },
        "056939d7617c4a17932393f42fd67f6e": {
          "model_module": "@jupyter-widgets/controls",
          "model_name": "HBoxModel",
          "model_module_version": "1.5.0",
          "state": {
            "_dom_classes": [],
            "_model_module": "@jupyter-widgets/controls",
            "_model_module_version": "1.5.0",
            "_model_name": "HBoxModel",
            "_view_count": null,
            "_view_module": "@jupyter-widgets/controls",
            "_view_module_version": "1.5.0",
            "_view_name": "HBoxView",
            "box_style": "",
            "children": [
              "IPY_MODEL_3e2988e452b1444a9e33b38e7a9ec97f",
              "IPY_MODEL_7c5ee75c8b4f440e9738d69dbacd9fc5",
              "IPY_MODEL_263516980b5e41c5bccb1f14d591b3d0"
            ],
            "layout": "IPY_MODEL_bcfd785f6b8f4d72a994ecc77749281c"
          }
        },
        "3e2988e452b1444a9e33b38e7a9ec97f": {
          "model_module": "@jupyter-widgets/controls",
          "model_name": "HTMLModel",
          "model_module_version": "1.5.0",
          "state": {
            "_dom_classes": [],
            "_model_module": "@jupyter-widgets/controls",
            "_model_module_version": "1.5.0",
            "_model_name": "HTMLModel",
            "_view_count": null,
            "_view_module": "@jupyter-widgets/controls",
            "_view_module_version": "1.5.0",
            "_view_name": "HTMLView",
            "description": "",
            "description_tooltip": null,
            "layout": "IPY_MODEL_821c3459b8f14314a04a2df9131dee44",
            "placeholder": "​",
            "style": "IPY_MODEL_8dc291e560914fb58cc92a5f97e8e5b5",
            "value": "tokenizer.json: 100%"
          }
        },
        "7c5ee75c8b4f440e9738d69dbacd9fc5": {
          "model_module": "@jupyter-widgets/controls",
          "model_name": "FloatProgressModel",
          "model_module_version": "1.5.0",
          "state": {
            "_dom_classes": [],
            "_model_module": "@jupyter-widgets/controls",
            "_model_module_version": "1.5.0",
            "_model_name": "FloatProgressModel",
            "_view_count": null,
            "_view_module": "@jupyter-widgets/controls",
            "_view_module_version": "1.5.0",
            "_view_name": "ProgressView",
            "bar_style": "success",
            "description": "",
            "description_tooltip": null,
            "layout": "IPY_MODEL_3bfaef2cd38a42438bcc4741ca7bcabc",
            "max": 466062,
            "min": 0,
            "orientation": "horizontal",
            "style": "IPY_MODEL_67da7fcd24934320ac228d5ee6c59017",
            "value": 466062
          }
        },
        "263516980b5e41c5bccb1f14d591b3d0": {
          "model_module": "@jupyter-widgets/controls",
          "model_name": "HTMLModel",
          "model_module_version": "1.5.0",
          "state": {
            "_dom_classes": [],
            "_model_module": "@jupyter-widgets/controls",
            "_model_module_version": "1.5.0",
            "_model_name": "HTMLModel",
            "_view_count": null,
            "_view_module": "@jupyter-widgets/controls",
            "_view_module_version": "1.5.0",
            "_view_name": "HTMLView",
            "description": "",
            "description_tooltip": null,
            "layout": "IPY_MODEL_a2f2107a68094f63841559be956128d9",
            "placeholder": "​",
            "style": "IPY_MODEL_d8a472fd32c44cc7aec272830660f0fc",
            "value": " 466k/466k [00:00&lt;00:00, 2.34MB/s]"
          }
        },
        "bcfd785f6b8f4d72a994ecc77749281c": {
          "model_module": "@jupyter-widgets/base",
          "model_name": "LayoutModel",
          "model_module_version": "1.2.0",
          "state": {
            "_model_module": "@jupyter-widgets/base",
            "_model_module_version": "1.2.0",
            "_model_name": "LayoutModel",
            "_view_count": null,
            "_view_module": "@jupyter-widgets/base",
            "_view_module_version": "1.2.0",
            "_view_name": "LayoutView",
            "align_content": null,
            "align_items": null,
            "align_self": null,
            "border": null,
            "bottom": null,
            "display": null,
            "flex": null,
            "flex_flow": null,
            "grid_area": null,
            "grid_auto_columns": null,
            "grid_auto_flow": null,
            "grid_auto_rows": null,
            "grid_column": null,
            "grid_gap": null,
            "grid_row": null,
            "grid_template_areas": null,
            "grid_template_columns": null,
            "grid_template_rows": null,
            "height": null,
            "justify_content": null,
            "justify_items": null,
            "left": null,
            "margin": null,
            "max_height": null,
            "max_width": null,
            "min_height": null,
            "min_width": null,
            "object_fit": null,
            "object_position": null,
            "order": null,
            "overflow": null,
            "overflow_x": null,
            "overflow_y": null,
            "padding": null,
            "right": null,
            "top": null,
            "visibility": null,
            "width": null
          }
        },
        "821c3459b8f14314a04a2df9131dee44": {
          "model_module": "@jupyter-widgets/base",
          "model_name": "LayoutModel",
          "model_module_version": "1.2.0",
          "state": {
            "_model_module": "@jupyter-widgets/base",
            "_model_module_version": "1.2.0",
            "_model_name": "LayoutModel",
            "_view_count": null,
            "_view_module": "@jupyter-widgets/base",
            "_view_module_version": "1.2.0",
            "_view_name": "LayoutView",
            "align_content": null,
            "align_items": null,
            "align_self": null,
            "border": null,
            "bottom": null,
            "display": null,
            "flex": null,
            "flex_flow": null,
            "grid_area": null,
            "grid_auto_columns": null,
            "grid_auto_flow": null,
            "grid_auto_rows": null,
            "grid_column": null,
            "grid_gap": null,
            "grid_row": null,
            "grid_template_areas": null,
            "grid_template_columns": null,
            "grid_template_rows": null,
            "height": null,
            "justify_content": null,
            "justify_items": null,
            "left": null,
            "margin": null,
            "max_height": null,
            "max_width": null,
            "min_height": null,
            "min_width": null,
            "object_fit": null,
            "object_position": null,
            "order": null,
            "overflow": null,
            "overflow_x": null,
            "overflow_y": null,
            "padding": null,
            "right": null,
            "top": null,
            "visibility": null,
            "width": null
          }
        },
        "8dc291e560914fb58cc92a5f97e8e5b5": {
          "model_module": "@jupyter-widgets/controls",
          "model_name": "DescriptionStyleModel",
          "model_module_version": "1.5.0",
          "state": {
            "_model_module": "@jupyter-widgets/controls",
            "_model_module_version": "1.5.0",
            "_model_name": "DescriptionStyleModel",
            "_view_count": null,
            "_view_module": "@jupyter-widgets/base",
            "_view_module_version": "1.2.0",
            "_view_name": "StyleView",
            "description_width": ""
          }
        },
        "3bfaef2cd38a42438bcc4741ca7bcabc": {
          "model_module": "@jupyter-widgets/base",
          "model_name": "LayoutModel",
          "model_module_version": "1.2.0",
          "state": {
            "_model_module": "@jupyter-widgets/base",
            "_model_module_version": "1.2.0",
            "_model_name": "LayoutModel",
            "_view_count": null,
            "_view_module": "@jupyter-widgets/base",
            "_view_module_version": "1.2.0",
            "_view_name": "LayoutView",
            "align_content": null,
            "align_items": null,
            "align_self": null,
            "border": null,
            "bottom": null,
            "display": null,
            "flex": null,
            "flex_flow": null,
            "grid_area": null,
            "grid_auto_columns": null,
            "grid_auto_flow": null,
            "grid_auto_rows": null,
            "grid_column": null,
            "grid_gap": null,
            "grid_row": null,
            "grid_template_areas": null,
            "grid_template_columns": null,
            "grid_template_rows": null,
            "height": null,
            "justify_content": null,
            "justify_items": null,
            "left": null,
            "margin": null,
            "max_height": null,
            "max_width": null,
            "min_height": null,
            "min_width": null,
            "object_fit": null,
            "object_position": null,
            "order": null,
            "overflow": null,
            "overflow_x": null,
            "overflow_y": null,
            "padding": null,
            "right": null,
            "top": null,
            "visibility": null,
            "width": null
          }
        },
        "67da7fcd24934320ac228d5ee6c59017": {
          "model_module": "@jupyter-widgets/controls",
          "model_name": "ProgressStyleModel",
          "model_module_version": "1.5.0",
          "state": {
            "_model_module": "@jupyter-widgets/controls",
            "_model_module_version": "1.5.0",
            "_model_name": "ProgressStyleModel",
            "_view_count": null,
            "_view_module": "@jupyter-widgets/base",
            "_view_module_version": "1.2.0",
            "_view_name": "StyleView",
            "bar_color": null,
            "description_width": ""
          }
        },
        "a2f2107a68094f63841559be956128d9": {
          "model_module": "@jupyter-widgets/base",
          "model_name": "LayoutModel",
          "model_module_version": "1.2.0",
          "state": {
            "_model_module": "@jupyter-widgets/base",
            "_model_module_version": "1.2.0",
            "_model_name": "LayoutModel",
            "_view_count": null,
            "_view_module": "@jupyter-widgets/base",
            "_view_module_version": "1.2.0",
            "_view_name": "LayoutView",
            "align_content": null,
            "align_items": null,
            "align_self": null,
            "border": null,
            "bottom": null,
            "display": null,
            "flex": null,
            "flex_flow": null,
            "grid_area": null,
            "grid_auto_columns": null,
            "grid_auto_flow": null,
            "grid_auto_rows": null,
            "grid_column": null,
            "grid_gap": null,
            "grid_row": null,
            "grid_template_areas": null,
            "grid_template_columns": null,
            "grid_template_rows": null,
            "height": null,
            "justify_content": null,
            "justify_items": null,
            "left": null,
            "margin": null,
            "max_height": null,
            "max_width": null,
            "min_height": null,
            "min_width": null,
            "object_fit": null,
            "object_position": null,
            "order": null,
            "overflow": null,
            "overflow_x": null,
            "overflow_y": null,
            "padding": null,
            "right": null,
            "top": null,
            "visibility": null,
            "width": null
          }
        },
        "d8a472fd32c44cc7aec272830660f0fc": {
          "model_module": "@jupyter-widgets/controls",
          "model_name": "DescriptionStyleModel",
          "model_module_version": "1.5.0",
          "state": {
            "_model_module": "@jupyter-widgets/controls",
            "_model_module_version": "1.5.0",
            "_model_name": "DescriptionStyleModel",
            "_view_count": null,
            "_view_module": "@jupyter-widgets/base",
            "_view_module_version": "1.2.0",
            "_view_name": "StyleView",
            "description_width": ""
          }
        },
        "b38d4dadb68b4717a12afabc1ca4ee10": {
          "model_module": "@jupyter-widgets/controls",
          "model_name": "HBoxModel",
          "model_module_version": "1.5.0",
          "state": {
            "_dom_classes": [],
            "_model_module": "@jupyter-widgets/controls",
            "_model_module_version": "1.5.0",
            "_model_name": "HBoxModel",
            "_view_count": null,
            "_view_module": "@jupyter-widgets/controls",
            "_view_module_version": "1.5.0",
            "_view_name": "HBoxView",
            "box_style": "",
            "children": [
              "IPY_MODEL_9d866cb2c9c74ee8949cbc373d374b28",
              "IPY_MODEL_b21a5bab82394a3cad3f51784be00658",
              "IPY_MODEL_3da2cedb5ce04b45843f8e0fbbd3cead"
            ],
            "layout": "IPY_MODEL_6ece16b236e84098aca2bcef9f18ac97"
          }
        },
        "9d866cb2c9c74ee8949cbc373d374b28": {
          "model_module": "@jupyter-widgets/controls",
          "model_name": "HTMLModel",
          "model_module_version": "1.5.0",
          "state": {
            "_dom_classes": [],
            "_model_module": "@jupyter-widgets/controls",
            "_model_module_version": "1.5.0",
            "_model_name": "HTMLModel",
            "_view_count": null,
            "_view_module": "@jupyter-widgets/controls",
            "_view_module_version": "1.5.0",
            "_view_name": "HTMLView",
            "description": "",
            "description_tooltip": null,
            "layout": "IPY_MODEL_83700552c8b7408186421d974ba3b920",
            "placeholder": "​",
            "style": "IPY_MODEL_28a073db770a4356ad616dad2d4d539c",
            "value": "config.json: 100%"
          }
        },
        "b21a5bab82394a3cad3f51784be00658": {
          "model_module": "@jupyter-widgets/controls",
          "model_name": "FloatProgressModel",
          "model_module_version": "1.5.0",
          "state": {
            "_dom_classes": [],
            "_model_module": "@jupyter-widgets/controls",
            "_model_module_version": "1.5.0",
            "_model_name": "FloatProgressModel",
            "_view_count": null,
            "_view_module": "@jupyter-widgets/controls",
            "_view_module_version": "1.5.0",
            "_view_name": "ProgressView",
            "bar_style": "success",
            "description": "",
            "description_tooltip": null,
            "layout": "IPY_MODEL_022b908a13bd456399af232d621e8fea",
            "max": 570,
            "min": 0,
            "orientation": "horizontal",
            "style": "IPY_MODEL_646b756bbfca4f4cb894a3b419d5120e",
            "value": 570
          }
        },
        "3da2cedb5ce04b45843f8e0fbbd3cead": {
          "model_module": "@jupyter-widgets/controls",
          "model_name": "HTMLModel",
          "model_module_version": "1.5.0",
          "state": {
            "_dom_classes": [],
            "_model_module": "@jupyter-widgets/controls",
            "_model_module_version": "1.5.0",
            "_model_name": "HTMLModel",
            "_view_count": null,
            "_view_module": "@jupyter-widgets/controls",
            "_view_module_version": "1.5.0",
            "_view_name": "HTMLView",
            "description": "",
            "description_tooltip": null,
            "layout": "IPY_MODEL_935180dbc9d64833964dc8a9fd29bfc3",
            "placeholder": "​",
            "style": "IPY_MODEL_b769dbb4fb7a4b66b7d0eaf721b0675d",
            "value": " 570/570 [00:00&lt;00:00, 40.9kB/s]"
          }
        },
        "6ece16b236e84098aca2bcef9f18ac97": {
          "model_module": "@jupyter-widgets/base",
          "model_name": "LayoutModel",
          "model_module_version": "1.2.0",
          "state": {
            "_model_module": "@jupyter-widgets/base",
            "_model_module_version": "1.2.0",
            "_model_name": "LayoutModel",
            "_view_count": null,
            "_view_module": "@jupyter-widgets/base",
            "_view_module_version": "1.2.0",
            "_view_name": "LayoutView",
            "align_content": null,
            "align_items": null,
            "align_self": null,
            "border": null,
            "bottom": null,
            "display": null,
            "flex": null,
            "flex_flow": null,
            "grid_area": null,
            "grid_auto_columns": null,
            "grid_auto_flow": null,
            "grid_auto_rows": null,
            "grid_column": null,
            "grid_gap": null,
            "grid_row": null,
            "grid_template_areas": null,
            "grid_template_columns": null,
            "grid_template_rows": null,
            "height": null,
            "justify_content": null,
            "justify_items": null,
            "left": null,
            "margin": null,
            "max_height": null,
            "max_width": null,
            "min_height": null,
            "min_width": null,
            "object_fit": null,
            "object_position": null,
            "order": null,
            "overflow": null,
            "overflow_x": null,
            "overflow_y": null,
            "padding": null,
            "right": null,
            "top": null,
            "visibility": null,
            "width": null
          }
        },
        "83700552c8b7408186421d974ba3b920": {
          "model_module": "@jupyter-widgets/base",
          "model_name": "LayoutModel",
          "model_module_version": "1.2.0",
          "state": {
            "_model_module": "@jupyter-widgets/base",
            "_model_module_version": "1.2.0",
            "_model_name": "LayoutModel",
            "_view_count": null,
            "_view_module": "@jupyter-widgets/base",
            "_view_module_version": "1.2.0",
            "_view_name": "LayoutView",
            "align_content": null,
            "align_items": null,
            "align_self": null,
            "border": null,
            "bottom": null,
            "display": null,
            "flex": null,
            "flex_flow": null,
            "grid_area": null,
            "grid_auto_columns": null,
            "grid_auto_flow": null,
            "grid_auto_rows": null,
            "grid_column": null,
            "grid_gap": null,
            "grid_row": null,
            "grid_template_areas": null,
            "grid_template_columns": null,
            "grid_template_rows": null,
            "height": null,
            "justify_content": null,
            "justify_items": null,
            "left": null,
            "margin": null,
            "max_height": null,
            "max_width": null,
            "min_height": null,
            "min_width": null,
            "object_fit": null,
            "object_position": null,
            "order": null,
            "overflow": null,
            "overflow_x": null,
            "overflow_y": null,
            "padding": null,
            "right": null,
            "top": null,
            "visibility": null,
            "width": null
          }
        },
        "28a073db770a4356ad616dad2d4d539c": {
          "model_module": "@jupyter-widgets/controls",
          "model_name": "DescriptionStyleModel",
          "model_module_version": "1.5.0",
          "state": {
            "_model_module": "@jupyter-widgets/controls",
            "_model_module_version": "1.5.0",
            "_model_name": "DescriptionStyleModel",
            "_view_count": null,
            "_view_module": "@jupyter-widgets/base",
            "_view_module_version": "1.2.0",
            "_view_name": "StyleView",
            "description_width": ""
          }
        },
        "022b908a13bd456399af232d621e8fea": {
          "model_module": "@jupyter-widgets/base",
          "model_name": "LayoutModel",
          "model_module_version": "1.2.0",
          "state": {
            "_model_module": "@jupyter-widgets/base",
            "_model_module_version": "1.2.0",
            "_model_name": "LayoutModel",
            "_view_count": null,
            "_view_module": "@jupyter-widgets/base",
            "_view_module_version": "1.2.0",
            "_view_name": "LayoutView",
            "align_content": null,
            "align_items": null,
            "align_self": null,
            "border": null,
            "bottom": null,
            "display": null,
            "flex": null,
            "flex_flow": null,
            "grid_area": null,
            "grid_auto_columns": null,
            "grid_auto_flow": null,
            "grid_auto_rows": null,
            "grid_column": null,
            "grid_gap": null,
            "grid_row": null,
            "grid_template_areas": null,
            "grid_template_columns": null,
            "grid_template_rows": null,
            "height": null,
            "justify_content": null,
            "justify_items": null,
            "left": null,
            "margin": null,
            "max_height": null,
            "max_width": null,
            "min_height": null,
            "min_width": null,
            "object_fit": null,
            "object_position": null,
            "order": null,
            "overflow": null,
            "overflow_x": null,
            "overflow_y": null,
            "padding": null,
            "right": null,
            "top": null,
            "visibility": null,
            "width": null
          }
        },
        "646b756bbfca4f4cb894a3b419d5120e": {
          "model_module": "@jupyter-widgets/controls",
          "model_name": "ProgressStyleModel",
          "model_module_version": "1.5.0",
          "state": {
            "_model_module": "@jupyter-widgets/controls",
            "_model_module_version": "1.5.0",
            "_model_name": "ProgressStyleModel",
            "_view_count": null,
            "_view_module": "@jupyter-widgets/base",
            "_view_module_version": "1.2.0",
            "_view_name": "StyleView",
            "bar_color": null,
            "description_width": ""
          }
        },
        "935180dbc9d64833964dc8a9fd29bfc3": {
          "model_module": "@jupyter-widgets/base",
          "model_name": "LayoutModel",
          "model_module_version": "1.2.0",
          "state": {
            "_model_module": "@jupyter-widgets/base",
            "_model_module_version": "1.2.0",
            "_model_name": "LayoutModel",
            "_view_count": null,
            "_view_module": "@jupyter-widgets/base",
            "_view_module_version": "1.2.0",
            "_view_name": "LayoutView",
            "align_content": null,
            "align_items": null,
            "align_self": null,
            "border": null,
            "bottom": null,
            "display": null,
            "flex": null,
            "flex_flow": null,
            "grid_area": null,
            "grid_auto_columns": null,
            "grid_auto_flow": null,
            "grid_auto_rows": null,
            "grid_column": null,
            "grid_gap": null,
            "grid_row": null,
            "grid_template_areas": null,
            "grid_template_columns": null,
            "grid_template_rows": null,
            "height": null,
            "justify_content": null,
            "justify_items": null,
            "left": null,
            "margin": null,
            "max_height": null,
            "max_width": null,
            "min_height": null,
            "min_width": null,
            "object_fit": null,
            "object_position": null,
            "order": null,
            "overflow": null,
            "overflow_x": null,
            "overflow_y": null,
            "padding": null,
            "right": null,
            "top": null,
            "visibility": null,
            "width": null
          }
        },
        "b769dbb4fb7a4b66b7d0eaf721b0675d": {
          "model_module": "@jupyter-widgets/controls",
          "model_name": "DescriptionStyleModel",
          "model_module_version": "1.5.0",
          "state": {
            "_model_module": "@jupyter-widgets/controls",
            "_model_module_version": "1.5.0",
            "_model_name": "DescriptionStyleModel",
            "_view_count": null,
            "_view_module": "@jupyter-widgets/base",
            "_view_module_version": "1.2.0",
            "_view_name": "StyleView",
            "description_width": ""
          }
        },
        "238ac4fdcb08489e9ac1fac17431ca8d": {
          "model_module": "@jupyter-widgets/controls",
          "model_name": "HBoxModel",
          "model_module_version": "1.5.0",
          "state": {
            "_dom_classes": [],
            "_model_module": "@jupyter-widgets/controls",
            "_model_module_version": "1.5.0",
            "_model_name": "HBoxModel",
            "_view_count": null,
            "_view_module": "@jupyter-widgets/controls",
            "_view_module_version": "1.5.0",
            "_view_name": "HBoxView",
            "box_style": "",
            "children": [
              "IPY_MODEL_64071aa81a6441fb96628fa8a2154500",
              "IPY_MODEL_5cc0b540f17a4f05b7c8421aaebb6f42",
              "IPY_MODEL_1ac0d6d1214d426d844be53259c1549b"
            ],
            "layout": "IPY_MODEL_85667f6e4f5f4aafa4908240bf37ec15"
          }
        },
        "64071aa81a6441fb96628fa8a2154500": {
          "model_module": "@jupyter-widgets/controls",
          "model_name": "HTMLModel",
          "model_module_version": "1.5.0",
          "state": {
            "_dom_classes": [],
            "_model_module": "@jupyter-widgets/controls",
            "_model_module_version": "1.5.0",
            "_model_name": "HTMLModel",
            "_view_count": null,
            "_view_module": "@jupyter-widgets/controls",
            "_view_module_version": "1.5.0",
            "_view_name": "HTMLView",
            "description": "",
            "description_tooltip": null,
            "layout": "IPY_MODEL_66e5f8de3afa4a0894df9fb6a1debe98",
            "placeholder": "​",
            "style": "IPY_MODEL_338dd27a4cce4c01bfb4bef62ad50157",
            "value": "model.safetensors: 100%"
          }
        },
        "5cc0b540f17a4f05b7c8421aaebb6f42": {
          "model_module": "@jupyter-widgets/controls",
          "model_name": "FloatProgressModel",
          "model_module_version": "1.5.0",
          "state": {
            "_dom_classes": [],
            "_model_module": "@jupyter-widgets/controls",
            "_model_module_version": "1.5.0",
            "_model_name": "FloatProgressModel",
            "_view_count": null,
            "_view_module": "@jupyter-widgets/controls",
            "_view_module_version": "1.5.0",
            "_view_name": "ProgressView",
            "bar_style": "success",
            "description": "",
            "description_tooltip": null,
            "layout": "IPY_MODEL_b860b43758a0423d8d82736b65d74d9a",
            "max": 440449768,
            "min": 0,
            "orientation": "horizontal",
            "style": "IPY_MODEL_52d1bf16ede440cb91128cc6e3b51a23",
            "value": 440449768
          }
        },
        "1ac0d6d1214d426d844be53259c1549b": {
          "model_module": "@jupyter-widgets/controls",
          "model_name": "HTMLModel",
          "model_module_version": "1.5.0",
          "state": {
            "_dom_classes": [],
            "_model_module": "@jupyter-widgets/controls",
            "_model_module_version": "1.5.0",
            "_model_name": "HTMLModel",
            "_view_count": null,
            "_view_module": "@jupyter-widgets/controls",
            "_view_module_version": "1.5.0",
            "_view_name": "HTMLView",
            "description": "",
            "description_tooltip": null,
            "layout": "IPY_MODEL_809b5a67390b462aab2b9c497f60d273",
            "placeholder": "​",
            "style": "IPY_MODEL_981df16489744dfda825367bba0882e0",
            "value": " 440M/440M [00:02&lt;00:00, 193MB/s]"
          }
        },
        "85667f6e4f5f4aafa4908240bf37ec15": {
          "model_module": "@jupyter-widgets/base",
          "model_name": "LayoutModel",
          "model_module_version": "1.2.0",
          "state": {
            "_model_module": "@jupyter-widgets/base",
            "_model_module_version": "1.2.0",
            "_model_name": "LayoutModel",
            "_view_count": null,
            "_view_module": "@jupyter-widgets/base",
            "_view_module_version": "1.2.0",
            "_view_name": "LayoutView",
            "align_content": null,
            "align_items": null,
            "align_self": null,
            "border": null,
            "bottom": null,
            "display": null,
            "flex": null,
            "flex_flow": null,
            "grid_area": null,
            "grid_auto_columns": null,
            "grid_auto_flow": null,
            "grid_auto_rows": null,
            "grid_column": null,
            "grid_gap": null,
            "grid_row": null,
            "grid_template_areas": null,
            "grid_template_columns": null,
            "grid_template_rows": null,
            "height": null,
            "justify_content": null,
            "justify_items": null,
            "left": null,
            "margin": null,
            "max_height": null,
            "max_width": null,
            "min_height": null,
            "min_width": null,
            "object_fit": null,
            "object_position": null,
            "order": null,
            "overflow": null,
            "overflow_x": null,
            "overflow_y": null,
            "padding": null,
            "right": null,
            "top": null,
            "visibility": null,
            "width": null
          }
        },
        "66e5f8de3afa4a0894df9fb6a1debe98": {
          "model_module": "@jupyter-widgets/base",
          "model_name": "LayoutModel",
          "model_module_version": "1.2.0",
          "state": {
            "_model_module": "@jupyter-widgets/base",
            "_model_module_version": "1.2.0",
            "_model_name": "LayoutModel",
            "_view_count": null,
            "_view_module": "@jupyter-widgets/base",
            "_view_module_version": "1.2.0",
            "_view_name": "LayoutView",
            "align_content": null,
            "align_items": null,
            "align_self": null,
            "border": null,
            "bottom": null,
            "display": null,
            "flex": null,
            "flex_flow": null,
            "grid_area": null,
            "grid_auto_columns": null,
            "grid_auto_flow": null,
            "grid_auto_rows": null,
            "grid_column": null,
            "grid_gap": null,
            "grid_row": null,
            "grid_template_areas": null,
            "grid_template_columns": null,
            "grid_template_rows": null,
            "height": null,
            "justify_content": null,
            "justify_items": null,
            "left": null,
            "margin": null,
            "max_height": null,
            "max_width": null,
            "min_height": null,
            "min_width": null,
            "object_fit": null,
            "object_position": null,
            "order": null,
            "overflow": null,
            "overflow_x": null,
            "overflow_y": null,
            "padding": null,
            "right": null,
            "top": null,
            "visibility": null,
            "width": null
          }
        },
        "338dd27a4cce4c01bfb4bef62ad50157": {
          "model_module": "@jupyter-widgets/controls",
          "model_name": "DescriptionStyleModel",
          "model_module_version": "1.5.0",
          "state": {
            "_model_module": "@jupyter-widgets/controls",
            "_model_module_version": "1.5.0",
            "_model_name": "DescriptionStyleModel",
            "_view_count": null,
            "_view_module": "@jupyter-widgets/base",
            "_view_module_version": "1.2.0",
            "_view_name": "StyleView",
            "description_width": ""
          }
        },
        "b860b43758a0423d8d82736b65d74d9a": {
          "model_module": "@jupyter-widgets/base",
          "model_name": "LayoutModel",
          "model_module_version": "1.2.0",
          "state": {
            "_model_module": "@jupyter-widgets/base",
            "_model_module_version": "1.2.0",
            "_model_name": "LayoutModel",
            "_view_count": null,
            "_view_module": "@jupyter-widgets/base",
            "_view_module_version": "1.2.0",
            "_view_name": "LayoutView",
            "align_content": null,
            "align_items": null,
            "align_self": null,
            "border": null,
            "bottom": null,
            "display": null,
            "flex": null,
            "flex_flow": null,
            "grid_area": null,
            "grid_auto_columns": null,
            "grid_auto_flow": null,
            "grid_auto_rows": null,
            "grid_column": null,
            "grid_gap": null,
            "grid_row": null,
            "grid_template_areas": null,
            "grid_template_columns": null,
            "grid_template_rows": null,
            "height": null,
            "justify_content": null,
            "justify_items": null,
            "left": null,
            "margin": null,
            "max_height": null,
            "max_width": null,
            "min_height": null,
            "min_width": null,
            "object_fit": null,
            "object_position": null,
            "order": null,
            "overflow": null,
            "overflow_x": null,
            "overflow_y": null,
            "padding": null,
            "right": null,
            "top": null,
            "visibility": null,
            "width": null
          }
        },
        "52d1bf16ede440cb91128cc6e3b51a23": {
          "model_module": "@jupyter-widgets/controls",
          "model_name": "ProgressStyleModel",
          "model_module_version": "1.5.0",
          "state": {
            "_model_module": "@jupyter-widgets/controls",
            "_model_module_version": "1.5.0",
            "_model_name": "ProgressStyleModel",
            "_view_count": null,
            "_view_module": "@jupyter-widgets/base",
            "_view_module_version": "1.2.0",
            "_view_name": "StyleView",
            "bar_color": null,
            "description_width": ""
          }
        },
        "809b5a67390b462aab2b9c497f60d273": {
          "model_module": "@jupyter-widgets/base",
          "model_name": "LayoutModel",
          "model_module_version": "1.2.0",
          "state": {
            "_model_module": "@jupyter-widgets/base",
            "_model_module_version": "1.2.0",
            "_model_name": "LayoutModel",
            "_view_count": null,
            "_view_module": "@jupyter-widgets/base",
            "_view_module_version": "1.2.0",
            "_view_name": "LayoutView",
            "align_content": null,
            "align_items": null,
            "align_self": null,
            "border": null,
            "bottom": null,
            "display": null,
            "flex": null,
            "flex_flow": null,
            "grid_area": null,
            "grid_auto_columns": null,
            "grid_auto_flow": null,
            "grid_auto_rows": null,
            "grid_column": null,
            "grid_gap": null,
            "grid_row": null,
            "grid_template_areas": null,
            "grid_template_columns": null,
            "grid_template_rows": null,
            "height": null,
            "justify_content": null,
            "justify_items": null,
            "left": null,
            "margin": null,
            "max_height": null,
            "max_width": null,
            "min_height": null,
            "min_width": null,
            "object_fit": null,
            "object_position": null,
            "order": null,
            "overflow": null,
            "overflow_x": null,
            "overflow_y": null,
            "padding": null,
            "right": null,
            "top": null,
            "visibility": null,
            "width": null
          }
        },
        "981df16489744dfda825367bba0882e0": {
          "model_module": "@jupyter-widgets/controls",
          "model_name": "DescriptionStyleModel",
          "model_module_version": "1.5.0",
          "state": {
            "_model_module": "@jupyter-widgets/controls",
            "_model_module_version": "1.5.0",
            "_model_name": "DescriptionStyleModel",
            "_view_count": null,
            "_view_module": "@jupyter-widgets/base",
            "_view_module_version": "1.2.0",
            "_view_name": "StyleView",
            "description_width": ""
          }
        }
      }
    }
  },
  "cells": [
    {
      "cell_type": "code",
      "execution_count": 1,
      "metadata": {
        "id": "3MnJc1YMkdgW",
        "colab": {
          "base_uri": "https://localhost:8080/"
        },
        "outputId": "1a50738a-3699-426d-dcad-6cb71adf17dd"
      },
      "outputs": [
        {
          "output_type": "stream",
          "name": "stderr",
          "text": [
            "[nltk_data] Downloading package stopwords to /root/nltk_data...\n",
            "[nltk_data]   Unzipping corpora/stopwords.zip.\n"
          ]
        },
        {
          "output_type": "execute_result",
          "data": {
            "text/plain": [
              "True"
            ]
          },
          "metadata": {},
          "execution_count": 1
        }
      ],
      "source": [
        "import numpy as np\n",
        "import pandas as pd\n",
        "import re\n",
        "from nltk.corpus import stopwords\n",
        "from nltk.stem.porter import PorterStemmer\n",
        "from sklearn.feature_extraction.text import TfidfVectorizer\n",
        "from sklearn.model_selection import train_test_split, GridSearchCV\n",
        "from sklearn.linear_model import LogisticRegression\n",
        "from sklearn.metrics import accuracy_score, classification_report\n",
        "import nltk\n",
        "nltk.download('stopwords')"
      ]
    },
    {
      "cell_type": "code",
      "source": [
        "from google.colab import drive\n",
        "drive.mount('/content/gdrive/')"
      ],
      "metadata": {
        "colab": {
          "base_uri": "https://localhost:8080/"
        },
        "id": "ak8f5HUiPci9",
        "outputId": "f432171d-ba31-496d-99c6-2fd1ab7820f9"
      },
      "execution_count": 2,
      "outputs": [
        {
          "output_type": "stream",
          "name": "stdout",
          "text": [
            "Mounted at /content/gdrive/\n"
          ]
        }
      ]
    },
    {
      "cell_type": "code",
      "source": [
        "train = pd.read_csv('/content/gdrive/MyDrive/ColabNotebooks/train.csv')"
      ],
      "metadata": {
        "id": "kJ-si4lTPkeM"
      },
      "execution_count": 3,
      "outputs": []
    },
    {
      "cell_type": "code",
      "source": [
        "train.head(10)"
      ],
      "metadata": {
        "colab": {
          "base_uri": "https://localhost:8080/",
          "height": 363
        },
        "id": "JcBL4H4kQIhs",
        "outputId": "54bd6c2e-0539-4c2c-d6f7-3ddcce0d5c13"
      },
      "execution_count": 4,
      "outputs": [
        {
          "output_type": "execute_result",
          "data": {
            "text/plain": [
              "   id                                              title  \\\n",
              "0   0  House Dem Aide: We Didn’t Even See Comey’s Let...   \n",
              "1   1  FLYNN: Hillary Clinton, Big Woman on Campus - ...   \n",
              "2   2                  Why the Truth Might Get You Fired   \n",
              "3   3  15 Civilians Killed In Single US Airstrike Hav...   \n",
              "4   4  Iranian woman jailed for fictional unpublished...   \n",
              "5   5  Jackie Mason: Hollywood Would Love Trump if He...   \n",
              "6   6  Life: Life Of Luxury: Elton John’s 6 Favorite ...   \n",
              "7   7  Benoît Hamon Wins French Socialist Party’s Pre...   \n",
              "8   8  Excerpts From a Draft Script for Donald Trump’...   \n",
              "9   9  A Back-Channel Plan for Ukraine and Russia, Co...   \n",
              "\n",
              "                         author  \\\n",
              "0                 Darrell Lucus   \n",
              "1               Daniel J. Flynn   \n",
              "2            Consortiumnews.com   \n",
              "3               Jessica Purkiss   \n",
              "4                Howard Portnoy   \n",
              "5               Daniel Nussbaum   \n",
              "6                           NaN   \n",
              "7               Alissa J. Rubin   \n",
              "8                           NaN   \n",
              "9  Megan Twohey and Scott Shane   \n",
              "\n",
              "                                                text  label  \n",
              "0  House Dem Aide: We Didn’t Even See Comey’s Let...      1  \n",
              "1  Ever get the feeling your life circles the rou...      0  \n",
              "2  Why the Truth Might Get You Fired October 29, ...      1  \n",
              "3  Videos 15 Civilians Killed In Single US Airstr...      1  \n",
              "4  Print \\nAn Iranian woman has been sentenced to...      1  \n",
              "5  In these trying times, Jackie Mason is the Voi...      0  \n",
              "6  Ever wonder how Britain’s most iconic pop pian...      1  \n",
              "7  PARIS  —   France chose an idealistic, traditi...      0  \n",
              "8  Donald J. Trump is scheduled to make a highly ...      0  \n",
              "9  A week before Michael T. Flynn resigned as nat...      0  "
            ],
            "text/html": [
              "\n",
              "  <div id=\"df-1ead35b4-e6d9-4c6e-9fcc-4390b10a94f3\" class=\"colab-df-container\">\n",
              "    <div>\n",
              "<style scoped>\n",
              "    .dataframe tbody tr th:only-of-type {\n",
              "        vertical-align: middle;\n",
              "    }\n",
              "\n",
              "    .dataframe tbody tr th {\n",
              "        vertical-align: top;\n",
              "    }\n",
              "\n",
              "    .dataframe thead th {\n",
              "        text-align: right;\n",
              "    }\n",
              "</style>\n",
              "<table border=\"1\" class=\"dataframe\">\n",
              "  <thead>\n",
              "    <tr style=\"text-align: right;\">\n",
              "      <th></th>\n",
              "      <th>id</th>\n",
              "      <th>title</th>\n",
              "      <th>author</th>\n",
              "      <th>text</th>\n",
              "      <th>label</th>\n",
              "    </tr>\n",
              "  </thead>\n",
              "  <tbody>\n",
              "    <tr>\n",
              "      <th>0</th>\n",
              "      <td>0</td>\n",
              "      <td>House Dem Aide: We Didn’t Even See Comey’s Let...</td>\n",
              "      <td>Darrell Lucus</td>\n",
              "      <td>House Dem Aide: We Didn’t Even See Comey’s Let...</td>\n",
              "      <td>1</td>\n",
              "    </tr>\n",
              "    <tr>\n",
              "      <th>1</th>\n",
              "      <td>1</td>\n",
              "      <td>FLYNN: Hillary Clinton, Big Woman on Campus - ...</td>\n",
              "      <td>Daniel J. Flynn</td>\n",
              "      <td>Ever get the feeling your life circles the rou...</td>\n",
              "      <td>0</td>\n",
              "    </tr>\n",
              "    <tr>\n",
              "      <th>2</th>\n",
              "      <td>2</td>\n",
              "      <td>Why the Truth Might Get You Fired</td>\n",
              "      <td>Consortiumnews.com</td>\n",
              "      <td>Why the Truth Might Get You Fired October 29, ...</td>\n",
              "      <td>1</td>\n",
              "    </tr>\n",
              "    <tr>\n",
              "      <th>3</th>\n",
              "      <td>3</td>\n",
              "      <td>15 Civilians Killed In Single US Airstrike Hav...</td>\n",
              "      <td>Jessica Purkiss</td>\n",
              "      <td>Videos 15 Civilians Killed In Single US Airstr...</td>\n",
              "      <td>1</td>\n",
              "    </tr>\n",
              "    <tr>\n",
              "      <th>4</th>\n",
              "      <td>4</td>\n",
              "      <td>Iranian woman jailed for fictional unpublished...</td>\n",
              "      <td>Howard Portnoy</td>\n",
              "      <td>Print \\nAn Iranian woman has been sentenced to...</td>\n",
              "      <td>1</td>\n",
              "    </tr>\n",
              "    <tr>\n",
              "      <th>5</th>\n",
              "      <td>5</td>\n",
              "      <td>Jackie Mason: Hollywood Would Love Trump if He...</td>\n",
              "      <td>Daniel Nussbaum</td>\n",
              "      <td>In these trying times, Jackie Mason is the Voi...</td>\n",
              "      <td>0</td>\n",
              "    </tr>\n",
              "    <tr>\n",
              "      <th>6</th>\n",
              "      <td>6</td>\n",
              "      <td>Life: Life Of Luxury: Elton John’s 6 Favorite ...</td>\n",
              "      <td>NaN</td>\n",
              "      <td>Ever wonder how Britain’s most iconic pop pian...</td>\n",
              "      <td>1</td>\n",
              "    </tr>\n",
              "    <tr>\n",
              "      <th>7</th>\n",
              "      <td>7</td>\n",
              "      <td>Benoît Hamon Wins French Socialist Party’s Pre...</td>\n",
              "      <td>Alissa J. Rubin</td>\n",
              "      <td>PARIS  —   France chose an idealistic, traditi...</td>\n",
              "      <td>0</td>\n",
              "    </tr>\n",
              "    <tr>\n",
              "      <th>8</th>\n",
              "      <td>8</td>\n",
              "      <td>Excerpts From a Draft Script for Donald Trump’...</td>\n",
              "      <td>NaN</td>\n",
              "      <td>Donald J. Trump is scheduled to make a highly ...</td>\n",
              "      <td>0</td>\n",
              "    </tr>\n",
              "    <tr>\n",
              "      <th>9</th>\n",
              "      <td>9</td>\n",
              "      <td>A Back-Channel Plan for Ukraine and Russia, Co...</td>\n",
              "      <td>Megan Twohey and Scott Shane</td>\n",
              "      <td>A week before Michael T. Flynn resigned as nat...</td>\n",
              "      <td>0</td>\n",
              "    </tr>\n",
              "  </tbody>\n",
              "</table>\n",
              "</div>\n",
              "    <div class=\"colab-df-buttons\">\n",
              "\n",
              "  <div class=\"colab-df-container\">\n",
              "    <button class=\"colab-df-convert\" onclick=\"convertToInteractive('df-1ead35b4-e6d9-4c6e-9fcc-4390b10a94f3')\"\n",
              "            title=\"Convert this dataframe to an interactive table.\"\n",
              "            style=\"display:none;\">\n",
              "\n",
              "  <svg xmlns=\"http://www.w3.org/2000/svg\" height=\"24px\" viewBox=\"0 -960 960 960\">\n",
              "    <path d=\"M120-120v-720h720v720H120Zm60-500h600v-160H180v160Zm220 220h160v-160H400v160Zm0 220h160v-160H400v160ZM180-400h160v-160H180v160Zm440 0h160v-160H620v160ZM180-180h160v-160H180v160Zm440 0h160v-160H620v160Z\"/>\n",
              "  </svg>\n",
              "    </button>\n",
              "\n",
              "  <style>\n",
              "    .colab-df-container {\n",
              "      display:flex;\n",
              "      gap: 12px;\n",
              "    }\n",
              "\n",
              "    .colab-df-convert {\n",
              "      background-color: #E8F0FE;\n",
              "      border: none;\n",
              "      border-radius: 50%;\n",
              "      cursor: pointer;\n",
              "      display: none;\n",
              "      fill: #1967D2;\n",
              "      height: 32px;\n",
              "      padding: 0 0 0 0;\n",
              "      width: 32px;\n",
              "    }\n",
              "\n",
              "    .colab-df-convert:hover {\n",
              "      background-color: #E2EBFA;\n",
              "      box-shadow: 0px 1px 2px rgba(60, 64, 67, 0.3), 0px 1px 3px 1px rgba(60, 64, 67, 0.15);\n",
              "      fill: #174EA6;\n",
              "    }\n",
              "\n",
              "    .colab-df-buttons div {\n",
              "      margin-bottom: 4px;\n",
              "    }\n",
              "\n",
              "    [theme=dark] .colab-df-convert {\n",
              "      background-color: #3B4455;\n",
              "      fill: #D2E3FC;\n",
              "    }\n",
              "\n",
              "    [theme=dark] .colab-df-convert:hover {\n",
              "      background-color: #434B5C;\n",
              "      box-shadow: 0px 1px 3px 1px rgba(0, 0, 0, 0.15);\n",
              "      filter: drop-shadow(0px 1px 2px rgba(0, 0, 0, 0.3));\n",
              "      fill: #FFFFFF;\n",
              "    }\n",
              "  </style>\n",
              "\n",
              "    <script>\n",
              "      const buttonEl =\n",
              "        document.querySelector('#df-1ead35b4-e6d9-4c6e-9fcc-4390b10a94f3 button.colab-df-convert');\n",
              "      buttonEl.style.display =\n",
              "        google.colab.kernel.accessAllowed ? 'block' : 'none';\n",
              "\n",
              "      async function convertToInteractive(key) {\n",
              "        const element = document.querySelector('#df-1ead35b4-e6d9-4c6e-9fcc-4390b10a94f3');\n",
              "        const dataTable =\n",
              "          await google.colab.kernel.invokeFunction('convertToInteractive',\n",
              "                                                    [key], {});\n",
              "        if (!dataTable) return;\n",
              "\n",
              "        const docLinkHtml = 'Like what you see? Visit the ' +\n",
              "          '<a target=\"_blank\" href=https://colab.research.google.com/notebooks/data_table.ipynb>data table notebook</a>'\n",
              "          + ' to learn more about interactive tables.';\n",
              "        element.innerHTML = '';\n",
              "        dataTable['output_type'] = 'display_data';\n",
              "        await google.colab.output.renderOutput(dataTable, element);\n",
              "        const docLink = document.createElement('div');\n",
              "        docLink.innerHTML = docLinkHtml;\n",
              "        element.appendChild(docLink);\n",
              "      }\n",
              "    </script>\n",
              "  </div>\n",
              "\n",
              "\n",
              "<div id=\"df-d02ade1a-903a-4bf0-8657-27c708fcbb19\">\n",
              "  <button class=\"colab-df-quickchart\" onclick=\"quickchart('df-d02ade1a-903a-4bf0-8657-27c708fcbb19')\"\n",
              "            title=\"Suggest charts\"\n",
              "            style=\"display:none;\">\n",
              "\n",
              "<svg xmlns=\"http://www.w3.org/2000/svg\" height=\"24px\"viewBox=\"0 0 24 24\"\n",
              "     width=\"24px\">\n",
              "    <g>\n",
              "        <path d=\"M19 3H5c-1.1 0-2 .9-2 2v14c0 1.1.9 2 2 2h14c1.1 0 2-.9 2-2V5c0-1.1-.9-2-2-2zM9 17H7v-7h2v7zm4 0h-2V7h2v10zm4 0h-2v-4h2v4z\"/>\n",
              "    </g>\n",
              "</svg>\n",
              "  </button>\n",
              "\n",
              "<style>\n",
              "  .colab-df-quickchart {\n",
              "      --bg-color: #E8F0FE;\n",
              "      --fill-color: #1967D2;\n",
              "      --hover-bg-color: #E2EBFA;\n",
              "      --hover-fill-color: #174EA6;\n",
              "      --disabled-fill-color: #AAA;\n",
              "      --disabled-bg-color: #DDD;\n",
              "  }\n",
              "\n",
              "  [theme=dark] .colab-df-quickchart {\n",
              "      --bg-color: #3B4455;\n",
              "      --fill-color: #D2E3FC;\n",
              "      --hover-bg-color: #434B5C;\n",
              "      --hover-fill-color: #FFFFFF;\n",
              "      --disabled-bg-color: #3B4455;\n",
              "      --disabled-fill-color: #666;\n",
              "  }\n",
              "\n",
              "  .colab-df-quickchart {\n",
              "    background-color: var(--bg-color);\n",
              "    border: none;\n",
              "    border-radius: 50%;\n",
              "    cursor: pointer;\n",
              "    display: none;\n",
              "    fill: var(--fill-color);\n",
              "    height: 32px;\n",
              "    padding: 0;\n",
              "    width: 32px;\n",
              "  }\n",
              "\n",
              "  .colab-df-quickchart:hover {\n",
              "    background-color: var(--hover-bg-color);\n",
              "    box-shadow: 0 1px 2px rgba(60, 64, 67, 0.3), 0 1px 3px 1px rgba(60, 64, 67, 0.15);\n",
              "    fill: var(--button-hover-fill-color);\n",
              "  }\n",
              "\n",
              "  .colab-df-quickchart-complete:disabled,\n",
              "  .colab-df-quickchart-complete:disabled:hover {\n",
              "    background-color: var(--disabled-bg-color);\n",
              "    fill: var(--disabled-fill-color);\n",
              "    box-shadow: none;\n",
              "  }\n",
              "\n",
              "  .colab-df-spinner {\n",
              "    border: 2px solid var(--fill-color);\n",
              "    border-color: transparent;\n",
              "    border-bottom-color: var(--fill-color);\n",
              "    animation:\n",
              "      spin 1s steps(1) infinite;\n",
              "  }\n",
              "\n",
              "  @keyframes spin {\n",
              "    0% {\n",
              "      border-color: transparent;\n",
              "      border-bottom-color: var(--fill-color);\n",
              "      border-left-color: var(--fill-color);\n",
              "    }\n",
              "    20% {\n",
              "      border-color: transparent;\n",
              "      border-left-color: var(--fill-color);\n",
              "      border-top-color: var(--fill-color);\n",
              "    }\n",
              "    30% {\n",
              "      border-color: transparent;\n",
              "      border-left-color: var(--fill-color);\n",
              "      border-top-color: var(--fill-color);\n",
              "      border-right-color: var(--fill-color);\n",
              "    }\n",
              "    40% {\n",
              "      border-color: transparent;\n",
              "      border-right-color: var(--fill-color);\n",
              "      border-top-color: var(--fill-color);\n",
              "    }\n",
              "    60% {\n",
              "      border-color: transparent;\n",
              "      border-right-color: var(--fill-color);\n",
              "    }\n",
              "    80% {\n",
              "      border-color: transparent;\n",
              "      border-right-color: var(--fill-color);\n",
              "      border-bottom-color: var(--fill-color);\n",
              "    }\n",
              "    90% {\n",
              "      border-color: transparent;\n",
              "      border-bottom-color: var(--fill-color);\n",
              "    }\n",
              "  }\n",
              "</style>\n",
              "\n",
              "  <script>\n",
              "    async function quickchart(key) {\n",
              "      const quickchartButtonEl =\n",
              "        document.querySelector('#' + key + ' button');\n",
              "      quickchartButtonEl.disabled = true;  // To prevent multiple clicks.\n",
              "      quickchartButtonEl.classList.add('colab-df-spinner');\n",
              "      try {\n",
              "        const charts = await google.colab.kernel.invokeFunction(\n",
              "            'suggestCharts', [key], {});\n",
              "      } catch (error) {\n",
              "        console.error('Error during call to suggestCharts:', error);\n",
              "      }\n",
              "      quickchartButtonEl.classList.remove('colab-df-spinner');\n",
              "      quickchartButtonEl.classList.add('colab-df-quickchart-complete');\n",
              "    }\n",
              "    (() => {\n",
              "      let quickchartButtonEl =\n",
              "        document.querySelector('#df-d02ade1a-903a-4bf0-8657-27c708fcbb19 button');\n",
              "      quickchartButtonEl.style.display =\n",
              "        google.colab.kernel.accessAllowed ? 'block' : 'none';\n",
              "    })();\n",
              "  </script>\n",
              "</div>\n",
              "    </div>\n",
              "  </div>\n"
            ],
            "application/vnd.google.colaboratory.intrinsic+json": {
              "type": "dataframe",
              "variable_name": "train",
              "summary": "{\n  \"name\": \"train\",\n  \"rows\": 20800,\n  \"fields\": [\n    {\n      \"column\": \"id\",\n      \"properties\": {\n        \"dtype\": \"number\",\n        \"std\": 6004,\n        \"min\": 0,\n        \"max\": 20799,\n        \"num_unique_values\": 20800,\n        \"samples\": [\n          14649,\n          9231,\n          6473\n        ],\n        \"semantic_type\": \"\",\n        \"description\": \"\"\n      }\n    },\n    {\n      \"column\": \"title\",\n      \"properties\": {\n        \"dtype\": \"string\",\n        \"num_unique_values\": 19803,\n        \"samples\": [\n          \"Florida Republicans Voting for Hillary Clinton \\u00b7 Guardian Liberty Voice\",\n          \"\\u2018Weekend Warriors\\u2019 Show Survival Benefits - The New York Times\",\n          \"Part 6, Democratic Network Money: Commons Money that Works for Us, Instead of Us Working for It\"\n        ],\n        \"semantic_type\": \"\",\n        \"description\": \"\"\n      }\n    },\n    {\n      \"column\": \"author\",\n      \"properties\": {\n        \"dtype\": \"category\",\n        \"num_unique_values\": 4201,\n        \"samples\": [\n          \"AARGH63\",\n          \"Dave Kehr\",\n          \"Patrick Healy\"\n        ],\n        \"semantic_type\": \"\",\n        \"description\": \"\"\n      }\n    },\n    {\n      \"column\": \"text\",\n      \"properties\": {\n        \"dtype\": \"string\",\n        \"num_unique_values\": 20386,\n        \"samples\": [\n          \"Multan a un ultrasur por lanzar a un jugador del Bar\\u00e7a al campo durante el partido Madrid-Legia EL PARTIDO SE CONSIDERABA DE ALTO RIESGO PARA LOS JUGADORES DEL BARCELONA Real Madrid \\nUn jugador barcelonista golpe\\u00f3 a varios jugadores durante el encuentro de la Champions que tuvo lugar ayer entre el Real Madrid y el Legia Varsovia despu\\u00e9s de ser arrojado desde la grada por un hincha madridista. \\nEl portero del Legia, muy molesto, intent\\u00f3 devolver el jugador a las gradas de una patada y se encar\\u00f3 con los Ultrasur, que ya preparaban a otro jugador para echarlo al campo y entorpecer el encuentro. En esta ocasi\\u00f3n pretend\\u00edan prenderlo con un mechero antes de lanzarlo al c\\u00e9sped. \\nLas autoridades han vuelto a pedir a los aficionados que dejen de lanzar cosas al campo como botellas, monedas y jugadores del Barcelona. El dispositivo de seguridad no puedo hacer nada por evitar que algunos hinchas introdujeran a jugadores barcelonistas a la grada, pues los llevaban camuflados dentro de bocadillos de gran tama\\u00f1o. \\nEl partido pudo ser reanudado cuando el \\u00e1rbitro apart\\u00f3 a un rinc\\u00f3n del c\\u00e9sped al jugador barcelonista.\",\n          \"Written by Jacob G. Hornberger   As US officials continue to accuse Russia of meddling with the US presidential election, an accusation that they have provided no evidence whatsoever to support, let\\u2019s review some of the US government\\u2019s history of meddling with elections in others countries.1. In 1951, the democratically elected parliament of Iran elected a man named Mohammad Mossadegh to be Iran\\u2019s prime minister. Mossadegh angered British Empire officials by nationalizing British oil interests in the country.British officials then turned to the CIA for assistance. In 1953, the CIA secretly fomented a violent coup in Iran, which succeeded in ousting Mossadegh from power and making the Shah of Iran the supreme unelected dictator of the country.To fortify the Shah\\u2019s dictatorial hold on power, the CIA helped organize and train the his domestic police force, the Savak, which was essentially a combination of the CIA, the NSA, and the military. Part of the CIA\\u2019s training involved teaching Savak agents the art of torture.For the next 26 years, the Iranian people suffered under one of the most brutal and tyrannical dictatorships in the world, one that US officials fully supported and called an ally and friend of the United States.In 1979, Iranians successfully revolted against the Shah\\u2019s regime and ousted him from power. One result was not a restoration of the democratic system that had elected Mossadegh but rather another brutal dictatorship, this time a religious one. Another result is the bad relations between the Iran and US governments that continues to exist today.2. In 1951, the Guatemalan people democratically elected a man named Jacobo Arbenz to be their president. Arbenz, however, was not satisfactory to US officials, especially the national-security branch of the government, specifically the Pentagon and the CIA. The reason that US officials opposed Arbenz was that he was a socialist, and US officials considered a socialist president of Guatemala to be a threat to \\u201cnational security\\u201d here in the United States.In 1954 \\u2014 one year after the coup in Iran, the CIA fomented a violent military coup that succeeded in removing Arbenz from power and replacing him with one of the most brutal unelected military dictators in Latin American history, a man named Carlos Castillo Armas. The CIA had a kill list prepared for the coup, which Arbenz was able to escape by fleeing the country before Castillo was able to get him. The CIA\\u2019s destruction of Guatemala\\u2019s democratic system threw the nation into a 30-year civil war that ended up killing millions of Guatemalan people, especially many of the poor.3. In 1960 a man named Patrice Lamumba was elected Congo\\u2019s first prime minister after independence from Belgium. Lamumba spoke out against Western imperialism and refused to take sides in the Cold War, which caused the CIA to conclude that he was a threat to \\u201cnational security.\\u201d The CIA orchestrated the assassination of Lamumba, which ended up taking place on January 17, 1961, just three days before President Kennedy, who liked Lamumba and who would have ordered the CIA to stand down, was to be sworn into office.4. In 1970 a man named Salvador Allende received a plurality of votes in the presidential election in Chile. Pursuant to the Chilean constitution, the election was thrown into the national congress. President Richard Nixon, his national-security team, the Pentagon, and the CIA concluded that because Allende believed in communism and socialism, he posed a grave threat to \\u201cnational security\\u201d here in the United States. The CIA attempted to bribe members of the congress to vote against Allende. It also orchestrated the kidnapping of the head of Chile\\u2019s armed forces, Gen Rene Schneider, who opposed a US military coup in his country, especially since a coup would violate the country\\u2019s constitution. The kidnapping attempt on Schneider left him dead.The CIA then fomented a coup that took place on 9/11 1973 that violently ousted Allende from power and left him dead. Replacing him was army Gen. Augusto Pinochet, one of the most brutal unelected military dictators in history. By the time Pinochet\\u2019s 17-year reign of military terror came to an end in 1990, he and his CIA-supported goons had incarcerated, raped, tortured, or killed tens of thousands of innocent people \\u2014 that is, people whose only \\u201ccrime\\u201d was believing in socialism \\u2014 with the full support of the CIA, Pentagon, Nixon, and his \\u201cnational security\\u201d team.Of course, there are also the more recent support of regime-change operations that ousted democratically elected presidents that the US government disapproved of, such as in Ukraine and Egypt.And then there is the long list of countries where unelected dictators were targeted for regime change by the US national security state and, where successful, replaced with a brutal unelected pro-US dictator. Cuba, Indonesia, Iraq, Libya, and Syria all come to mind.US officials need to keep in mind that when they point their accusatory index finger at Russia for supposedly meddling in the US presidential election, US officials have, at the same time, three fingers pointing back at themselves. Reprinted with permission from the Future of Freedom Foundation . Related\",\n          \"When hearing of an establishment called the Black and Blue Steakhouse, one could reasonably surmise that some, or at the very least one, extremely tough person could be found somewhere in there. Well, the three terrorists who attacked London Bridge over the weekend found the Black and Blue Steakhouse, and they found the toughest man in the house. [Or, maybe more to the point, he found them.  Roy Larner, 47, is a huge fan of the South East London soccer team Millwall F. C. The team is known as the Lions, and when   terrorists entered the Black and Blue to kill innocent people, Larner let them know who is the true king of the jungle. After the terrorists entered, with obvious bad intentions, Larner sprang into action: \\u201cLike an idiot I shouted back at them. I thought, \\u2018I need to take the p*** out of these b*****s.\\u2019 \\u201cI took a few steps towards them and said, \\u2018F*** you, I\\u2019m Millwall.\\u2019 So they started attacking me. \\u201cI stood in front of them trying to fight them off. Everyone else ran to the back. I was on my own against all three of them, that\\u2019s why I got hurt so much. It was just me, trying to grab them with my bare hands and hold on. I was swinging. \\u201cI got stabbed and sliced eight times. They got me in my head, chest and both hands. There was blood everywhere. \\u201cThey were saying, \\u2018Islam, Islam!\\u2019 I said again, \\u2018F*** you, I\\u2019m Millwall!\\u2019 \\u201cIt was the worst thing I could have done as they carried on attacking me. \\u201cLuckily, none of the blows were straight at me or I\\u2019d be dead. \\u201d A petition has begun, with the aim of awarding Larner with the George Cross for bravery. The award is the second highest commendation granted by Great Britain. Looking at his scars, it\\u2019s really hard to imagine that he won\\u2019t get it. If Millwall is looking for a new slogan, they may have found it. \\u201cF*** you, I\\u2019m Millwall!\\u201d has a nice ring to it. Follow Dylan Gwinn on Twitter: @themightygwinn\"\n        ],\n        \"semantic_type\": \"\",\n        \"description\": \"\"\n      }\n    },\n    {\n      \"column\": \"label\",\n      \"properties\": {\n        \"dtype\": \"number\",\n        \"std\": 0,\n        \"min\": 0,\n        \"max\": 1,\n        \"num_unique_values\": 2,\n        \"samples\": [\n          0,\n          1\n        ],\n        \"semantic_type\": \"\",\n        \"description\": \"\"\n      }\n    }\n  ]\n}"
            }
          },
          "metadata": {},
          "execution_count": 4
        }
      ]
    },
    {
      "cell_type": "code",
      "source": [
        "print(stopwords.words('english'))"
      ],
      "metadata": {
        "colab": {
          "base_uri": "https://localhost:8080/"
        },
        "id": "-OQ_Vz8KQMAS",
        "outputId": "26199d6d-f5fe-4f1c-9da7-567d892023a3"
      },
      "execution_count": 5,
      "outputs": [
        {
          "output_type": "stream",
          "name": "stdout",
          "text": [
            "['i', 'me', 'my', 'myself', 'we', 'our', 'ours', 'ourselves', 'you', \"you're\", \"you've\", \"you'll\", \"you'd\", 'your', 'yours', 'yourself', 'yourselves', 'he', 'him', 'his', 'himself', 'she', \"she's\", 'her', 'hers', 'herself', 'it', \"it's\", 'its', 'itself', 'they', 'them', 'their', 'theirs', 'themselves', 'what', 'which', 'who', 'whom', 'this', 'that', \"that'll\", 'these', 'those', 'am', 'is', 'are', 'was', 'were', 'be', 'been', 'being', 'have', 'has', 'had', 'having', 'do', 'does', 'did', 'doing', 'a', 'an', 'the', 'and', 'but', 'if', 'or', 'because', 'as', 'until', 'while', 'of', 'at', 'by', 'for', 'with', 'about', 'against', 'between', 'into', 'through', 'during', 'before', 'after', 'above', 'below', 'to', 'from', 'up', 'down', 'in', 'out', 'on', 'off', 'over', 'under', 'again', 'further', 'then', 'once', 'here', 'there', 'when', 'where', 'why', 'how', 'all', 'any', 'both', 'each', 'few', 'more', 'most', 'other', 'some', 'such', 'no', 'nor', 'not', 'only', 'own', 'same', 'so', 'than', 'too', 'very', 's', 't', 'can', 'will', 'just', 'don', \"don't\", 'should', \"should've\", 'now', 'd', 'll', 'm', 'o', 're', 've', 'y', 'ain', 'aren', \"aren't\", 'couldn', \"couldn't\", 'didn', \"didn't\", 'doesn', \"doesn't\", 'hadn', \"hadn't\", 'hasn', \"hasn't\", 'haven', \"haven't\", 'isn', \"isn't\", 'ma', 'mightn', \"mightn't\", 'mustn', \"mustn't\", 'needn', \"needn't\", 'shan', \"shan't\", 'shouldn', \"shouldn't\", 'wasn', \"wasn't\", 'weren', \"weren't\", 'won', \"won't\", 'wouldn', \"wouldn't\"]\n"
          ]
        }
      ]
    },
    {
      "cell_type": "code",
      "source": [
        "train.shape"
      ],
      "metadata": {
        "colab": {
          "base_uri": "https://localhost:8080/"
        },
        "id": "eS2XA5DZQ3hB",
        "outputId": "37527a12-d3d0-4f2d-d41b-45b65e61179c"
      },
      "execution_count": 6,
      "outputs": [
        {
          "output_type": "execute_result",
          "data": {
            "text/plain": [
              "(20800, 5)"
            ]
          },
          "metadata": {},
          "execution_count": 6
        }
      ]
    },
    {
      "cell_type": "code",
      "source": [
        "train.isnull().sum()"
      ],
      "metadata": {
        "id": "IJ-K1ttYRD2G",
        "outputId": "0ffb880c-9ea4-4eb2-e7bf-410dc77df5b8",
        "colab": {
          "base_uri": "https://localhost:8080/"
        }
      },
      "execution_count": 7,
      "outputs": [
        {
          "output_type": "execute_result",
          "data": {
            "text/plain": [
              "id           0\n",
              "title      558\n",
              "author    1957\n",
              "text        39\n",
              "label        0\n",
              "dtype: int64"
            ]
          },
          "metadata": {},
          "execution_count": 7
        }
      ]
    },
    {
      "cell_type": "code",
      "source": [
        "train = train.fillna('')"
      ],
      "metadata": {
        "id": "rZYVj5wXIvPn"
      },
      "execution_count": 8,
      "outputs": []
    },
    {
      "cell_type": "code",
      "source": [
        "train['content'] = train['author']+' '+ train['title']"
      ],
      "metadata": {
        "id": "hUoQCl4JIxxY"
      },
      "execution_count": 9,
      "outputs": []
    },
    {
      "cell_type": "code",
      "source": [
        "X = train.drop(columns='label', axis=1)\n",
        "y = train['label']"
      ],
      "metadata": {
        "id": "Exuop08sI3lM"
      },
      "execution_count": 10,
      "outputs": []
    },
    {
      "cell_type": "code",
      "source": [
        "X.head()"
      ],
      "metadata": {
        "colab": {
          "base_uri": "https://localhost:8080/",
          "height": 293
        },
        "id": "e4UWBGZMI-fR",
        "outputId": "d1f2bc11-1a96-4dbd-98f7-2a3592408484"
      },
      "execution_count": 11,
      "outputs": [
        {
          "output_type": "execute_result",
          "data": {
            "text/plain": [
              "   id                                              title              author  \\\n",
              "0   0  House Dem Aide: We Didn’t Even See Comey’s Let...       Darrell Lucus   \n",
              "1   1  FLYNN: Hillary Clinton, Big Woman on Campus - ...     Daniel J. Flynn   \n",
              "2   2                  Why the Truth Might Get You Fired  Consortiumnews.com   \n",
              "3   3  15 Civilians Killed In Single US Airstrike Hav...     Jessica Purkiss   \n",
              "4   4  Iranian woman jailed for fictional unpublished...      Howard Portnoy   \n",
              "\n",
              "                                                text  \\\n",
              "0  House Dem Aide: We Didn’t Even See Comey’s Let...   \n",
              "1  Ever get the feeling your life circles the rou...   \n",
              "2  Why the Truth Might Get You Fired October 29, ...   \n",
              "3  Videos 15 Civilians Killed In Single US Airstr...   \n",
              "4  Print \\nAn Iranian woman has been sentenced to...   \n",
              "\n",
              "                                             content  \n",
              "0  Darrell Lucus House Dem Aide: We Didn’t Even S...  \n",
              "1  Daniel J. Flynn FLYNN: Hillary Clinton, Big Wo...  \n",
              "2  Consortiumnews.com Why the Truth Might Get You...  \n",
              "3  Jessica Purkiss 15 Civilians Killed In Single ...  \n",
              "4  Howard Portnoy Iranian woman jailed for fictio...  "
            ],
            "text/html": [
              "\n",
              "  <div id=\"df-7287b9fb-f5df-4960-a0b6-6dd4c2832e4e\" class=\"colab-df-container\">\n",
              "    <div>\n",
              "<style scoped>\n",
              "    .dataframe tbody tr th:only-of-type {\n",
              "        vertical-align: middle;\n",
              "    }\n",
              "\n",
              "    .dataframe tbody tr th {\n",
              "        vertical-align: top;\n",
              "    }\n",
              "\n",
              "    .dataframe thead th {\n",
              "        text-align: right;\n",
              "    }\n",
              "</style>\n",
              "<table border=\"1\" class=\"dataframe\">\n",
              "  <thead>\n",
              "    <tr style=\"text-align: right;\">\n",
              "      <th></th>\n",
              "      <th>id</th>\n",
              "      <th>title</th>\n",
              "      <th>author</th>\n",
              "      <th>text</th>\n",
              "      <th>content</th>\n",
              "    </tr>\n",
              "  </thead>\n",
              "  <tbody>\n",
              "    <tr>\n",
              "      <th>0</th>\n",
              "      <td>0</td>\n",
              "      <td>House Dem Aide: We Didn’t Even See Comey’s Let...</td>\n",
              "      <td>Darrell Lucus</td>\n",
              "      <td>House Dem Aide: We Didn’t Even See Comey’s Let...</td>\n",
              "      <td>Darrell Lucus House Dem Aide: We Didn’t Even S...</td>\n",
              "    </tr>\n",
              "    <tr>\n",
              "      <th>1</th>\n",
              "      <td>1</td>\n",
              "      <td>FLYNN: Hillary Clinton, Big Woman on Campus - ...</td>\n",
              "      <td>Daniel J. Flynn</td>\n",
              "      <td>Ever get the feeling your life circles the rou...</td>\n",
              "      <td>Daniel J. Flynn FLYNN: Hillary Clinton, Big Wo...</td>\n",
              "    </tr>\n",
              "    <tr>\n",
              "      <th>2</th>\n",
              "      <td>2</td>\n",
              "      <td>Why the Truth Might Get You Fired</td>\n",
              "      <td>Consortiumnews.com</td>\n",
              "      <td>Why the Truth Might Get You Fired October 29, ...</td>\n",
              "      <td>Consortiumnews.com Why the Truth Might Get You...</td>\n",
              "    </tr>\n",
              "    <tr>\n",
              "      <th>3</th>\n",
              "      <td>3</td>\n",
              "      <td>15 Civilians Killed In Single US Airstrike Hav...</td>\n",
              "      <td>Jessica Purkiss</td>\n",
              "      <td>Videos 15 Civilians Killed In Single US Airstr...</td>\n",
              "      <td>Jessica Purkiss 15 Civilians Killed In Single ...</td>\n",
              "    </tr>\n",
              "    <tr>\n",
              "      <th>4</th>\n",
              "      <td>4</td>\n",
              "      <td>Iranian woman jailed for fictional unpublished...</td>\n",
              "      <td>Howard Portnoy</td>\n",
              "      <td>Print \\nAn Iranian woman has been sentenced to...</td>\n",
              "      <td>Howard Portnoy Iranian woman jailed for fictio...</td>\n",
              "    </tr>\n",
              "  </tbody>\n",
              "</table>\n",
              "</div>\n",
              "    <div class=\"colab-df-buttons\">\n",
              "\n",
              "  <div class=\"colab-df-container\">\n",
              "    <button class=\"colab-df-convert\" onclick=\"convertToInteractive('df-7287b9fb-f5df-4960-a0b6-6dd4c2832e4e')\"\n",
              "            title=\"Convert this dataframe to an interactive table.\"\n",
              "            style=\"display:none;\">\n",
              "\n",
              "  <svg xmlns=\"http://www.w3.org/2000/svg\" height=\"24px\" viewBox=\"0 -960 960 960\">\n",
              "    <path d=\"M120-120v-720h720v720H120Zm60-500h600v-160H180v160Zm220 220h160v-160H400v160Zm0 220h160v-160H400v160ZM180-400h160v-160H180v160Zm440 0h160v-160H620v160ZM180-180h160v-160H180v160Zm440 0h160v-160H620v160Z\"/>\n",
              "  </svg>\n",
              "    </button>\n",
              "\n",
              "  <style>\n",
              "    .colab-df-container {\n",
              "      display:flex;\n",
              "      gap: 12px;\n",
              "    }\n",
              "\n",
              "    .colab-df-convert {\n",
              "      background-color: #E8F0FE;\n",
              "      border: none;\n",
              "      border-radius: 50%;\n",
              "      cursor: pointer;\n",
              "      display: none;\n",
              "      fill: #1967D2;\n",
              "      height: 32px;\n",
              "      padding: 0 0 0 0;\n",
              "      width: 32px;\n",
              "    }\n",
              "\n",
              "    .colab-df-convert:hover {\n",
              "      background-color: #E2EBFA;\n",
              "      box-shadow: 0px 1px 2px rgba(60, 64, 67, 0.3), 0px 1px 3px 1px rgba(60, 64, 67, 0.15);\n",
              "      fill: #174EA6;\n",
              "    }\n",
              "\n",
              "    .colab-df-buttons div {\n",
              "      margin-bottom: 4px;\n",
              "    }\n",
              "\n",
              "    [theme=dark] .colab-df-convert {\n",
              "      background-color: #3B4455;\n",
              "      fill: #D2E3FC;\n",
              "    }\n",
              "\n",
              "    [theme=dark] .colab-df-convert:hover {\n",
              "      background-color: #434B5C;\n",
              "      box-shadow: 0px 1px 3px 1px rgba(0, 0, 0, 0.15);\n",
              "      filter: drop-shadow(0px 1px 2px rgba(0, 0, 0, 0.3));\n",
              "      fill: #FFFFFF;\n",
              "    }\n",
              "  </style>\n",
              "\n",
              "    <script>\n",
              "      const buttonEl =\n",
              "        document.querySelector('#df-7287b9fb-f5df-4960-a0b6-6dd4c2832e4e button.colab-df-convert');\n",
              "      buttonEl.style.display =\n",
              "        google.colab.kernel.accessAllowed ? 'block' : 'none';\n",
              "\n",
              "      async function convertToInteractive(key) {\n",
              "        const element = document.querySelector('#df-7287b9fb-f5df-4960-a0b6-6dd4c2832e4e');\n",
              "        const dataTable =\n",
              "          await google.colab.kernel.invokeFunction('convertToInteractive',\n",
              "                                                    [key], {});\n",
              "        if (!dataTable) return;\n",
              "\n",
              "        const docLinkHtml = 'Like what you see? Visit the ' +\n",
              "          '<a target=\"_blank\" href=https://colab.research.google.com/notebooks/data_table.ipynb>data table notebook</a>'\n",
              "          + ' to learn more about interactive tables.';\n",
              "        element.innerHTML = '';\n",
              "        dataTable['output_type'] = 'display_data';\n",
              "        await google.colab.output.renderOutput(dataTable, element);\n",
              "        const docLink = document.createElement('div');\n",
              "        docLink.innerHTML = docLinkHtml;\n",
              "        element.appendChild(docLink);\n",
              "      }\n",
              "    </script>\n",
              "  </div>\n",
              "\n",
              "\n",
              "<div id=\"df-69e7c98b-734c-4103-aaf9-a3f0f82306d5\">\n",
              "  <button class=\"colab-df-quickchart\" onclick=\"quickchart('df-69e7c98b-734c-4103-aaf9-a3f0f82306d5')\"\n",
              "            title=\"Suggest charts\"\n",
              "            style=\"display:none;\">\n",
              "\n",
              "<svg xmlns=\"http://www.w3.org/2000/svg\" height=\"24px\"viewBox=\"0 0 24 24\"\n",
              "     width=\"24px\">\n",
              "    <g>\n",
              "        <path d=\"M19 3H5c-1.1 0-2 .9-2 2v14c0 1.1.9 2 2 2h14c1.1 0 2-.9 2-2V5c0-1.1-.9-2-2-2zM9 17H7v-7h2v7zm4 0h-2V7h2v10zm4 0h-2v-4h2v4z\"/>\n",
              "    </g>\n",
              "</svg>\n",
              "  </button>\n",
              "\n",
              "<style>\n",
              "  .colab-df-quickchart {\n",
              "      --bg-color: #E8F0FE;\n",
              "      --fill-color: #1967D2;\n",
              "      --hover-bg-color: #E2EBFA;\n",
              "      --hover-fill-color: #174EA6;\n",
              "      --disabled-fill-color: #AAA;\n",
              "      --disabled-bg-color: #DDD;\n",
              "  }\n",
              "\n",
              "  [theme=dark] .colab-df-quickchart {\n",
              "      --bg-color: #3B4455;\n",
              "      --fill-color: #D2E3FC;\n",
              "      --hover-bg-color: #434B5C;\n",
              "      --hover-fill-color: #FFFFFF;\n",
              "      --disabled-bg-color: #3B4455;\n",
              "      --disabled-fill-color: #666;\n",
              "  }\n",
              "\n",
              "  .colab-df-quickchart {\n",
              "    background-color: var(--bg-color);\n",
              "    border: none;\n",
              "    border-radius: 50%;\n",
              "    cursor: pointer;\n",
              "    display: none;\n",
              "    fill: var(--fill-color);\n",
              "    height: 32px;\n",
              "    padding: 0;\n",
              "    width: 32px;\n",
              "  }\n",
              "\n",
              "  .colab-df-quickchart:hover {\n",
              "    background-color: var(--hover-bg-color);\n",
              "    box-shadow: 0 1px 2px rgba(60, 64, 67, 0.3), 0 1px 3px 1px rgba(60, 64, 67, 0.15);\n",
              "    fill: var(--button-hover-fill-color);\n",
              "  }\n",
              "\n",
              "  .colab-df-quickchart-complete:disabled,\n",
              "  .colab-df-quickchart-complete:disabled:hover {\n",
              "    background-color: var(--disabled-bg-color);\n",
              "    fill: var(--disabled-fill-color);\n",
              "    box-shadow: none;\n",
              "  }\n",
              "\n",
              "  .colab-df-spinner {\n",
              "    border: 2px solid var(--fill-color);\n",
              "    border-color: transparent;\n",
              "    border-bottom-color: var(--fill-color);\n",
              "    animation:\n",
              "      spin 1s steps(1) infinite;\n",
              "  }\n",
              "\n",
              "  @keyframes spin {\n",
              "    0% {\n",
              "      border-color: transparent;\n",
              "      border-bottom-color: var(--fill-color);\n",
              "      border-left-color: var(--fill-color);\n",
              "    }\n",
              "    20% {\n",
              "      border-color: transparent;\n",
              "      border-left-color: var(--fill-color);\n",
              "      border-top-color: var(--fill-color);\n",
              "    }\n",
              "    30% {\n",
              "      border-color: transparent;\n",
              "      border-left-color: var(--fill-color);\n",
              "      border-top-color: var(--fill-color);\n",
              "      border-right-color: var(--fill-color);\n",
              "    }\n",
              "    40% {\n",
              "      border-color: transparent;\n",
              "      border-right-color: var(--fill-color);\n",
              "      border-top-color: var(--fill-color);\n",
              "    }\n",
              "    60% {\n",
              "      border-color: transparent;\n",
              "      border-right-color: var(--fill-color);\n",
              "    }\n",
              "    80% {\n",
              "      border-color: transparent;\n",
              "      border-right-color: var(--fill-color);\n",
              "      border-bottom-color: var(--fill-color);\n",
              "    }\n",
              "    90% {\n",
              "      border-color: transparent;\n",
              "      border-bottom-color: var(--fill-color);\n",
              "    }\n",
              "  }\n",
              "</style>\n",
              "\n",
              "  <script>\n",
              "    async function quickchart(key) {\n",
              "      const quickchartButtonEl =\n",
              "        document.querySelector('#' + key + ' button');\n",
              "      quickchartButtonEl.disabled = true;  // To prevent multiple clicks.\n",
              "      quickchartButtonEl.classList.add('colab-df-spinner');\n",
              "      try {\n",
              "        const charts = await google.colab.kernel.invokeFunction(\n",
              "            'suggestCharts', [key], {});\n",
              "      } catch (error) {\n",
              "        console.error('Error during call to suggestCharts:', error);\n",
              "      }\n",
              "      quickchartButtonEl.classList.remove('colab-df-spinner');\n",
              "      quickchartButtonEl.classList.add('colab-df-quickchart-complete');\n",
              "    }\n",
              "    (() => {\n",
              "      let quickchartButtonEl =\n",
              "        document.querySelector('#df-69e7c98b-734c-4103-aaf9-a3f0f82306d5 button');\n",
              "      quickchartButtonEl.style.display =\n",
              "        google.colab.kernel.accessAllowed ? 'block' : 'none';\n",
              "    })();\n",
              "  </script>\n",
              "</div>\n",
              "    </div>\n",
              "  </div>\n"
            ],
            "application/vnd.google.colaboratory.intrinsic+json": {
              "type": "dataframe",
              "variable_name": "X",
              "summary": "{\n  \"name\": \"X\",\n  \"rows\": 20800,\n  \"fields\": [\n    {\n      \"column\": \"id\",\n      \"properties\": {\n        \"dtype\": \"number\",\n        \"std\": 6004,\n        \"min\": 0,\n        \"max\": 20799,\n        \"num_unique_values\": 20800,\n        \"samples\": [\n          14649,\n          9231,\n          6473\n        ],\n        \"semantic_type\": \"\",\n        \"description\": \"\"\n      }\n    },\n    {\n      \"column\": \"title\",\n      \"properties\": {\n        \"dtype\": \"string\",\n        \"num_unique_values\": 19804,\n        \"samples\": [\n          \"Florida Republicans Voting for Hillary Clinton \\u00b7 Guardian Liberty Voice\",\n          \"A Suit Over Schiele Drawings Invokes New Law on Nazi-Looted Art - The New York Times\",\n          \"MMR Vaccines Cause 340% Increased Risk of Autism in African American Infants\"\n        ],\n        \"semantic_type\": \"\",\n        \"description\": \"\"\n      }\n    },\n    {\n      \"column\": \"author\",\n      \"properties\": {\n        \"dtype\": \"category\",\n        \"num_unique_values\": 4202,\n        \"samples\": [\n          \"OZbanislam\",\n          \"Julia Hahn\",\n          \"Cassandra Fairbanks\"\n        ],\n        \"semantic_type\": \"\",\n        \"description\": \"\"\n      }\n    },\n    {\n      \"column\": \"text\",\n      \"properties\": {\n        \"dtype\": \"string\",\n        \"num_unique_values\": 20387,\n        \"samples\": [\n          \"Multan a un ultrasur por lanzar a un jugador del Bar\\u00e7a al campo durante el partido Madrid-Legia EL PARTIDO SE CONSIDERABA DE ALTO RIESGO PARA LOS JUGADORES DEL BARCELONA Real Madrid \\nUn jugador barcelonista golpe\\u00f3 a varios jugadores durante el encuentro de la Champions que tuvo lugar ayer entre el Real Madrid y el Legia Varsovia despu\\u00e9s de ser arrojado desde la grada por un hincha madridista. \\nEl portero del Legia, muy molesto, intent\\u00f3 devolver el jugador a las gradas de una patada y se encar\\u00f3 con los Ultrasur, que ya preparaban a otro jugador para echarlo al campo y entorpecer el encuentro. En esta ocasi\\u00f3n pretend\\u00edan prenderlo con un mechero antes de lanzarlo al c\\u00e9sped. \\nLas autoridades han vuelto a pedir a los aficionados que dejen de lanzar cosas al campo como botellas, monedas y jugadores del Barcelona. El dispositivo de seguridad no puedo hacer nada por evitar que algunos hinchas introdujeran a jugadores barcelonistas a la grada, pues los llevaban camuflados dentro de bocadillos de gran tama\\u00f1o. \\nEl partido pudo ser reanudado cuando el \\u00e1rbitro apart\\u00f3 a un rinc\\u00f3n del c\\u00e9sped al jugador barcelonista.\",\n          \"Written by Eric Margolis   As a former soldier and war correspondent who has covered 14 conflicts, I look at all the media hoopla over tightening siege of Mosul, Iraq and shake my head. This western-organized \\u201cliberation\\u201d of Mosul is one of the bigger pieces of political-military theater that I\\u2019ve seen. Islamic State (IS), the defender of Mosul, is a paper tiger, blown out of all proportion by western media. IS is, as this writer has been saying for years, an armed mob made up of 20-something malcontents, religious fanatics, and modern-day anarchists. At its top is a cadre of former Iraqi Army officers with military experience. These former officers of Saddam Hussain are bent on revenge for the US destruction of their nation and the lynching of its late leader. But IS rank and file has no military training, little discipline, degraded communications, and ragged logistics. In fact, today\\u2019s Islamic State is what the Ottoman Empire used to term, \\u2018bashi-bazouks,\\u201d a collection of irregular cut-throats and scum of the gutter sent to punish and terrorize enemies by means of torture, rapine, looting, and arson. What has amazed me about the faux western war against ISIS is its leisurely nature, lack of \\u00e9lan , and hesitancy. In my view, ISIS was mostly created by the US and its allies as a weapon to be used against Syria\\u2019s government \\u2013 just as the Afghan mujahadin were used by the US and the Saudis to overthrow the Soviet-backed Afghan government. Israel tried the same tactics by helping create Hamas in Palestine and Hezbollah in Lebanon. Both were cultivated to split the PLO. ISIS is an ad hoc movement that wants to punish the West and the Saudis for the gross carnage they have inflicted on the Arab world. Western and Kurdish auxiliary forces have been sitting 1.5 hours drive from Mosul and the IS town of Raqqa for over a year. Instead, western \\u2013 mainly US \\u2013 warplanes have been gingerly bombing around these targets in what may be an effort to convince breakaway ISIS to rejoin US-led forces fight the Damascus regime. Note that ISIS does not appear to have ever attacked Israel though it is playing an important role in the destruction of Syria. Some reports say Israel is providing logistic and medical support for IS. The siege of Mosul is being played up by western media as a heroic second Stalingrad. Don\\u2019t be fooled. IS has only 3-5,000 lightly armed fighters in Mosul and Raqqa, maybe even less. The leaders of IS are likely long gone. IS has few heavy weapons, no air cover at all, and poor communications. Its rag-tag fighters will run out of ammunitions and explosives very quickly. Encircling Mosul are at least 50,000 western-led soldiers, backed by heavy artillery, rocket batteries, tanks, armored vehicles and awesome air power The western imperial forces are composed of tough Kurdish peshmerga fighters, Iraqi army and special forces, some Syrian Kurds, Iranian \\u2018volunteers\\u2019 irregular forces and at least 5,000 US combat troops called \\u201cadvisors\\u201d, plus small numbers of French, Canadian and British special forces. Hovering in the background are some thousands of Turkish troops, supported by armor and artillery ready to \\\"liberate\\\" Iraq \\u2013 which was once part of the Ottoman Empire. For the US, current military operations in Syria and Iraq are the realization of an imperialist\\u2019s fondest dream: native troops led by white officers, the model of the old British Indian Raj. Washington arms, trained, equips and financed all its native auxiliaries. The IS is caught in a dangerous dilemma. To be a political movement, it was delighted to control Iraq\\u2019s second largest city. But as a guerilla force, it should not have holed up in an urban area where it was highly vulnerable to concentrated air attack and being surrounded. This is what\\u2019s happening right now. In the mostly flat Fertile Crescent with too few trees, ground forces are totally vulnerable to air power, as the recent 1967, 1973 Israel-Arab wars and 2003 Iraq wars have shown. Dispersion and guerilla tactics are the only hope for those that lack air cover. IS forces would best advise to disperse across the region and continue their hit-and-run attacks. Otherwise, they risk being destroyed. But being mostly bloody-minded young fanatics, IS may not heed military logic and precedent in favor of making a last stand in the ruins of Mosul and Raqqa. When this happens, western leaders will compete to claim authorship of the faux crusade against the paper tiger of ISIS.   LewRockwell.com . Related\",\n          \"The   at the Democratic National Committee after an embarrassing breach of its email system continued on Tuesday with the departure of three senior officials. Amy Dacey, the committee\\u2019s chief executive Luis Miranda, its communications director and Brad Marshall, its chief financial officer, will leave amid a reshuffling of leadership positions, said Donna Brazile, the interim chairwoman. The departures came more than a week after WikiLeaks posted almost 20, 000 of the committee\\u2019s emails, a number of which revealed officials showing favoritism toward Hillary Clinton in her primary campaign against Senator Bernie Sanders of Vermont. The messages confirmed the concerns expressed by Mr. Sanders throughout the campaign, cast a cloud over the start of the Democratic National Convention in Philadelphia last week and led to the resignation of Representative Debbie Wasserman Schultz of Florida as the committee\\u2019s chairwoman. Ms. Brazile praised the outgoing staff members and made no mention of the controversy. \\u201cThanks in part to the hard work of Amy, Luis, and Brad, the Democratic Party has adopted the most progressive platform in history, has put itself in financial position to win in November, and has begun the important work of investing in state party partnerships,\\u201d she said in a statement. \\u201cI\\u2019m so grateful for their commitment to this cause, and I wish them continued success in the next chapter of their career. \\u201d American intelligence officials believe that the Russian government was behind the breach of the committee\\u2019s emails and documents, possibly as part of an effort to damage Mrs. Clinton and sow discord in the Democratic Party. An email from Mr. Marshall to Mark Paustenbach, a communications official, and Ms. Dacey suggesting that the committee promote questions about Mr. Sanders\\u2019s faith drew particular scorn from the senator and his supporters. \\u201cIt might may no difference, but for KY and WVA can we get someone to ask his belief. Does he believe in a God,\\u201d Mr. Marshall wrote, referring to Kentucky and West Virginia. \\u201cHe had skated on saying he has a Jewish heritage. I think I read he is an atheist. This could make several points difference with my peeps. \\u201d In May, Mr. Paustenbach wrote to Mr. Miranda about encouraging reporters to write that Mr. Sanders\\u2019s campaign was \\u201ca mess\\u201d after a glitch on the committee\\u2019s servers gave the Sanders campaign access to the Clinton campaign\\u2019s voter database. \\u201cWondering if there\\u2019s a good Bernie narrative for a story, which is that Bernie never ever had his act together, that his campaign was a mess,\\u201d Mr. Paustenbach wrote. Mr. Miranda wrote back: \\u201cTrue, but the Chair has been advised to not engage. So we\\u2019ll have to leave it alone. \\u201d The committee has since apologized to the Sanders campaign. To help fill the void, the committee announced, it is bringing on Tom McMahon, a former executive director of the committee, to lead a transition team.\"\n        ],\n        \"semantic_type\": \"\",\n        \"description\": \"\"\n      }\n    },\n    {\n      \"column\": \"content\",\n      \"properties\": {\n        \"dtype\": \"string\",\n        \"num_unique_values\": 20412,\n        \"samples\": [\n          \"Wrenfoe Fellated by a dead pig? You may have been a victim of Tory bullying\",\n          \"Dan Riehl Stephen Miller: Trump Has \\u2019Better Sense of the Pulse of the People\\u2019 Than Any President Since Andrew Jackson\",\n          \" Secret talks between Mozambique opposition, EU mediators canceled\"\n        ],\n        \"semantic_type\": \"\",\n        \"description\": \"\"\n      }\n    }\n  ]\n}"
            }
          },
          "metadata": {},
          "execution_count": 11
        }
      ]
    },
    {
      "cell_type": "code",
      "source": [
        "y.head()"
      ],
      "metadata": {
        "colab": {
          "base_uri": "https://localhost:8080/"
        },
        "id": "OnefE9IzJDso",
        "outputId": "e8eff7c4-264b-4fd8-fb2c-cd72823bf2a1"
      },
      "execution_count": 12,
      "outputs": [
        {
          "output_type": "execute_result",
          "data": {
            "text/plain": [
              "0    1\n",
              "1    0\n",
              "2    1\n",
              "3    1\n",
              "4    1\n",
              "Name: label, dtype: int64"
            ]
          },
          "metadata": {},
          "execution_count": 12
        }
      ]
    },
    {
      "cell_type": "code",
      "source": [
        "def apply_stemming(content, stemmer):\n",
        "    stemmed_content = re.sub('[^a-zA-Z]',' ',content)\n",
        "    stemmed_content = stemmed_content.lower()\n",
        "    stemmed_content = stemmed_content.split()\n",
        "    stemmed_content = [stemmer.stem(word) for word in stemmed_content if not word in stopwords.words('english')]\n",
        "    stemmed_content = ' '.join(stemmed_content)\n",
        "    return stemmed_content"
      ],
      "metadata": {
        "id": "dG0a0o-EKANT"
      },
      "execution_count": 13,
      "outputs": []
    },
    {
      "cell_type": "code",
      "source": [
        "stemmer = PorterStemmer()\n",
        "train['content'] = train['content'].apply(lambda content: apply_stemming(content, stemmer))"
      ],
      "metadata": {
        "id": "-3lyt_aNKBU3"
      },
      "execution_count": 14,
      "outputs": []
    },
    {
      "cell_type": "code",
      "source": [
        "train['content'].head()"
      ],
      "metadata": {
        "colab": {
          "base_uri": "https://localhost:8080/"
        },
        "id": "SkX-Y5wqKJWv",
        "outputId": "22f41612-c98d-49a2-d63e-0664793815e1"
      },
      "execution_count": 15,
      "outputs": [
        {
          "output_type": "execute_result",
          "data": {
            "text/plain": [
              "0    darrel lucu hous dem aid even see comey letter...\n",
              "1    daniel j flynn flynn hillari clinton big woman...\n",
              "2               consortiumnew com truth might get fire\n",
              "3    jessica purkiss civilian kill singl us airstri...\n",
              "4    howard portnoy iranian woman jail fiction unpu...\n",
              "Name: content, dtype: object"
            ]
          },
          "metadata": {},
          "execution_count": 15
        }
      ]
    },
    {
      "cell_type": "code",
      "source": [
        "X = train['content'].values\n",
        "y = train['label'].values"
      ],
      "metadata": {
        "id": "zzYy-aUyKWYY"
      },
      "execution_count": 16,
      "outputs": []
    },
    {
      "cell_type": "code",
      "source": [
        "X.shape"
      ],
      "metadata": {
        "colab": {
          "base_uri": "https://localhost:8080/"
        },
        "id": "tlZfvHCxKccb",
        "outputId": "48aa75db-0dda-456a-e839-28286950ef32"
      },
      "execution_count": 17,
      "outputs": [
        {
          "output_type": "execute_result",
          "data": {
            "text/plain": [
              "(20800,)"
            ]
          },
          "metadata": {},
          "execution_count": 17
        }
      ]
    },
    {
      "cell_type": "code",
      "source": [
        "y.shape"
      ],
      "metadata": {
        "colab": {
          "base_uri": "https://localhost:8080/"
        },
        "id": "zHkxlU4FKf66",
        "outputId": "b2ad5143-664f-4f59-9ae0-6c50a6cef2f9"
      },
      "execution_count": 18,
      "outputs": [
        {
          "output_type": "execute_result",
          "data": {
            "text/plain": [
              "(20800,)"
            ]
          },
          "metadata": {},
          "execution_count": 18
        }
      ]
    },
    {
      "cell_type": "code",
      "source": [
        "vectorizer = TfidfVectorizer(max_features=9000)\n",
        "vectorizer.fit(X)\n",
        "\n",
        "X = vectorizer.transform(X)\n",
        "X.shape"
      ],
      "metadata": {
        "colab": {
          "base_uri": "https://localhost:8080/"
        },
        "id": "QN3E0fnFLChI",
        "outputId": "0017c37d-1b91-4fdb-91c0-0f0d8d181cea"
      },
      "execution_count": 19,
      "outputs": [
        {
          "output_type": "execute_result",
          "data": {
            "text/plain": [
              "(20800, 9000)"
            ]
          },
          "metadata": {},
          "execution_count": 19
        }
      ]
    },
    {
      "cell_type": "code",
      "source": [
        "X_train, X_test, y_train, y_test = train_test_split(X, y, test_size=0.2, stratify=y, random_state=42)"
      ],
      "metadata": {
        "id": "54xYd5zFLFEd"
      },
      "execution_count": 20,
      "outputs": []
    },
    {
      "cell_type": "code",
      "source": [
        "import numpy as np\n",
        "import matplotlib.pyplot as plt\n",
        "from sklearn.model_selection import GridSearchCV\n",
        "from sklearn.linear_model import LogisticRegression\n",
        "from sklearn.metrics import accuracy_score, log_loss\n",
        "from sklearn.utils import shuffle\n",
        "import joblib"
      ],
      "metadata": {
        "id": "6YHuT-wuMDKQ"
      },
      "execution_count": 21,
      "outputs": []
    },
    {
      "cell_type": "code",
      "source": [
        "param_grid = {\n",
        "    'C': [0.001, 0.01, 0.1, 1, 10, 100],\n",
        "    'penalty': ['l1', 'l2']\n",
        "}\n",
        "\n",
        "grid_search = GridSearchCV(LogisticRegression(solver='liblinear'), param_grid, cv=5, scoring='accuracy')\n",
        "grid_search.fit(X_train, y_train)\n",
        "best_params = grid_search.best_params_"
      ],
      "metadata": {
        "id": "pex6UZ7xMEWL"
      },
      "execution_count": 22,
      "outputs": []
    },
    {
      "cell_type": "code",
      "source": [
        "# Train a Logistic Regression model with the best hyperparameters\n",
        "best_logistic_regression = LogisticRegression(solver='liblinear', **best_params)\n",
        "best_logistic_regression.fit(X_train, y_train)\n",
        "\n",
        "# Make predictions on the test set\n",
        "y_pred = best_logistic_regression.predict(X_test)"
      ],
      "metadata": {
        "id": "NyWznZxlMUUG"
      },
      "execution_count": 23,
      "outputs": []
    },
    {
      "cell_type": "code",
      "source": [
        "accuracy = accuracy_score(y_test, y_pred)\n",
        "classification_report = classification_report(y_test, y_pred)\n",
        "\n",
        "print(f\"Best Hyperparameters: {best_params}\")\n",
        "print(f\"Accuracy: {accuracy}\")\n",
        "print(f\"Classification Report:\\n{classification_report}\")"
      ],
      "metadata": {
        "colab": {
          "base_uri": "https://localhost:8080/"
        },
        "id": "TaA0DIKGMMi0",
        "outputId": "f1fa9314-0d4d-46ab-fc12-182557bf9751"
      },
      "execution_count": 24,
      "outputs": [
        {
          "output_type": "stream",
          "name": "stdout",
          "text": [
            "Best Hyperparameters: {'C': 100, 'penalty': 'l1'}\n",
            "Accuracy: 0.9918269230769231\n",
            "Classification Report:\n",
            "              precision    recall  f1-score   support\n",
            "\n",
            "           0       0.99      0.99      0.99      2077\n",
            "           1       0.99      0.99      0.99      2083\n",
            "\n",
            "    accuracy                           0.99      4160\n",
            "   macro avg       0.99      0.99      0.99      4160\n",
            "weighted avg       0.99      0.99      0.99      4160\n",
            "\n"
          ]
        }
      ]
    },
    {
      "cell_type": "code",
      "source": [
        "class Callback:\n",
        "    def __init__(self):\n",
        "        self.train_losses = []\n",
        "        self.val_losses = []\n",
        "        self.train_accuracies = []\n",
        "        self.val_accuracies = []\n",
        "\n",
        "    def on_epoch_end(self, model, X_train, y_train, X_val, y_val):\n",
        "        train_pred = model.predict_proba(X_train)\n",
        "        val_pred = model.predict_proba(X_val)\n",
        "\n",
        "        train_loss = log_loss(y_train, train_pred)\n",
        "        val_loss = log_loss(y_val, val_pred)\n",
        "\n",
        "        train_acc = accuracy_score(y_train, np.argmax(train_pred, axis=1))\n",
        "        val_acc = accuracy_score(y_val, np.argmax(val_pred, axis=1))\n",
        "\n",
        "        self.train_losses.append(train_loss)\n",
        "        self.val_losses.append(val_loss)\n",
        "        self.train_accuracies.append(train_acc)\n",
        "        self.val_accuracies.append(val_acc)"
      ],
      "metadata": {
        "id": "buN_dalmMaW4"
      },
      "execution_count": 25,
      "outputs": []
    },
    {
      "cell_type": "code",
      "source": [
        "callback = Callback()\n",
        "\n",
        "# Поділ даних на тренувальні та валідаційні\n",
        "X_train_shuffled, y_train_shuffled = shuffle(X_train, y_train, random_state=42)\n",
        "split_idx = int(0.8 * X_train_shuffled.shape[0])  # Використання shape замість len\n",
        "X_train_sub = X_train_shuffled[:split_idx]\n",
        "y_train_sub = y_train_shuffled[:split_idx]\n",
        "X_val_sub = X_train_shuffled[split_idx:]\n",
        "y_val_sub = y_train_shuffled[split_idx:]\n",
        "\n",
        "model = LogisticRegression(solver='liblinear', **best_params)\n",
        "\n",
        "for epoch in range(100):  # Кількість епох\n",
        "    model.fit(X_train_sub, y_train_sub)\n",
        "    callback.on_epoch_end(model, X_train_sub, y_train_sub, X_val_sub, y_val_sub)"
      ],
      "metadata": {
        "id": "gVMCFrz9MWQ-"
      },
      "execution_count": 26,
      "outputs": []
    },
    {
      "cell_type": "code",
      "source": [
        "# Виведення графіків точності та втрат\n",
        "epochs = range(1, len(callback.train_losses) + 1)\n",
        "plt.figure(figsize=(12, 6))\n",
        "\n",
        "plt.subplot(1, 2, 1)\n",
        "plt.plot(epochs, callback.train_losses, label='Train Loss')\n",
        "plt.plot(epochs, callback.val_losses, label='Validation Loss')\n",
        "plt.title('Loss')\n",
        "plt.xlabel('Epochs')\n",
        "plt.ylabel('Loss')\n",
        "plt.legend()\n",
        "\n",
        "plt.subplot(1, 2, 2)\n",
        "plt.plot(epochs, callback.train_accuracies, label='Train Accuracy')\n",
        "plt.plot(epochs, callback.val_accuracies, label='Validation Accuracy')\n",
        "plt.title('Accuracy')\n",
        "plt.xlabel('Epochs')\n",
        "plt.ylabel('Accuracy')\n",
        "plt.legend()\n",
        "\n",
        "plt.show()"
      ],
      "metadata": {
        "colab": {
          "base_uri": "https://localhost:8080/",
          "height": 564
        },
        "id": "EbYDmM-XMgNq",
        "outputId": "a78a1ada-4945-41b6-c576-5485ff61a361"
      },
      "execution_count": 27,
      "outputs": [
        {
          "output_type": "display_data",
          "data": {
            "text/plain": [
              "<Figure size 1200x600 with 2 Axes>"
            ],
            "image/png": "[encoded data removed]"
          },
          "metadata": {}
        }
      ]
    },
    {
      "cell_type": "code",
      "source": [
        "print(f\"Best Hyperparameters: {best_params}\")\n",
        "print(f\"Accuracy: {accuracy}\")\n",
        "print(f\"Classification Report:\\n{classification_report}\")"
      ],
      "metadata": {
        "colab": {
          "base_uri": "https://localhost:8080/"
        },
        "id": "7GBj17BbNLmV",
        "outputId": "e12eeff2-fbaf-4bac-8f57-1c8a82c797e8"
      },
      "execution_count": 28,
      "outputs": [
        {
          "output_type": "stream",
          "name": "stdout",
          "text": [
            "Best Hyperparameters: {'C': 100, 'penalty': 'l1'}\n",
            "Accuracy: 0.9918269230769231\n",
            "Classification Report:\n",
            "              precision    recall  f1-score   support\n",
            "\n",
            "           0       0.99      0.99      0.99      2077\n",
            "           1       0.99      0.99      0.99      2083\n",
            "\n",
            "    accuracy                           0.99      4160\n",
            "   macro avg       0.99      0.99      0.99      4160\n",
            "weighted avg       0.99      0.99      0.99      4160\n",
            "\n"
          ]
        }
      ]
    },
    {
      "cell_type": "code",
      "source": [
        "val_data = pd.read_csv('/content/gdrive/MyDrive/ColabNotebooks/test.csv')\n",
        "val_data.shape"
      ],
      "metadata": {
        "colab": {
          "base_uri": "https://localhost:8080/"
        },
        "id": "BwJTjIGRgO1K",
        "outputId": "b16da20b-b3ae-487d-b13f-bee61ae0c5c4"
      },
      "execution_count": 29,
      "outputs": [
        {
          "output_type": "execute_result",
          "data": {
            "text/plain": [
              "(5200, 4)"
            ]
          },
          "metadata": {},
          "execution_count": 29
        }
      ]
    },
    {
      "cell_type": "code",
      "source": [
        "val_data = val_data.fillna('')"
      ],
      "metadata": {
        "id": "7qAaPusCgbeZ"
      },
      "execution_count": 31,
      "outputs": []
    },
    {
      "cell_type": "code",
      "source": [
        "val_data['content'] = val_data['author']+' '+ val_data['title']"
      ],
      "metadata": {
        "id": "5dknotMYggn4"
      },
      "execution_count": 32,
      "outputs": []
    },
    {
      "cell_type": "code",
      "source": [
        "X_val = val_data['content'].values"
      ],
      "metadata": {
        "id": "osKqaJ87gnjZ"
      },
      "execution_count": 33,
      "outputs": []
    },
    {
      "cell_type": "code",
      "source": [
        "vectorizer = TfidfVectorizer(max_features=9000)\n",
        "vectorizer.fit(X_val)\n",
        "\n",
        "X_val = vectorizer.transform(X_val)"
      ],
      "metadata": {
        "id": "Hs9AFZUZgum8"
      },
      "execution_count": 34,
      "outputs": []
    },
    {
      "cell_type": "code",
      "source": [
        "X_val.shape"
      ],
      "metadata": {
        "colab": {
          "base_uri": "https://localhost:8080/"
        },
        "id": "-GVRa4mqg0ac",
        "outputId": "8fc49d4c-808c-4731-b41d-764c6cf23be5"
      },
      "execution_count": 35,
      "outputs": [
        {
          "output_type": "execute_result",
          "data": {
            "text/plain": [
              "(5200, 9000)"
            ]
          },
          "metadata": {},
          "execution_count": 35
        }
      ]
    },
    {
      "cell_type": "code",
      "source": [
        "y_val_pred = best_logistic_regression.predict(X_val)"
      ],
      "metadata": {
        "id": "zJb651q4g55N"
      },
      "execution_count": 36,
      "outputs": []
    },
    {
      "cell_type": "code",
      "source": [
        "y_val_pred.shape"
      ],
      "metadata": {
        "colab": {
          "base_uri": "https://localhost:8080/"
        },
        "id": "imtklcwTg-OS",
        "outputId": "125ab270-2002-4c46-cae6-ac6053d97820"
      },
      "execution_count": 37,
      "outputs": [
        {
          "output_type": "execute_result",
          "data": {
            "text/plain": [
              "(5200,)"
            ]
          },
          "metadata": {},
          "execution_count": 37
        }
      ]
    },
    {
      "cell_type": "code",
      "source": [
        "# Evaluate the model\n",
        "submit_df = pd.read_csv('/content/gdrive/MyDrive/ColabNotebooks/submit.csv')\n",
        "y_val_test = submit_df['label']\n",
        "accuracy = accuracy_score(y_true=y_val_test, y_pred=y_val_pred)\n",
        "\n",
        "print(f\"Best Hyperparameters: {best_params}\")\n",
        "print(f\"Accuracy: {accuracy}\")"
      ],
      "metadata": {
        "colab": {
          "base_uri": "https://localhost:8080/"
        },
        "id": "GSH_wEaDg_-I",
        "outputId": "9c53222d-30ad-46b5-bca6-805cdcc1afa2"
      },
      "execution_count": 38,
      "outputs": [
        {
          "output_type": "stream",
          "name": "stdout",
          "text": [
            "Best Hyperparameters: {'C': 100, 'penalty': 'l1'}\n",
            "Accuracy: 0.5436538461538462\n"
          ]
        }
      ]
    },
    {
      "cell_type": "code",
      "source": [
        "final_sub = pd.DataFrame()\n",
        "final_sub['id']=submit_df['id']\n",
        "final_sub['label'] = y_val_pred\n",
        "final_sub.to_csv('submission.csv',index=False)"
      ],
      "metadata": {
        "id": "5Ucwg98zhjmM"
      },
      "execution_count": 39,
      "outputs": []
    },
    {
      "cell_type": "markdown",
      "source": [
        "![Screenshot 2024-05-16 123256.png](data:image/png;base64,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)"
      ],
      "metadata": {
        "id": "_30-ZHXZw0cV"
      }
    },
    {
      "cell_type": "markdown",
      "source": [
        "<h1>BERT</h1>"
      ],
      "metadata": {
        "id": "SnthHbeHOZeu"
      }
    },
    {
      "cell_type": "code",
      "source": [
        "import os\n",
        "import torch\n",
        "from torch import nn\n",
        "from torch.utils.data import DataLoader, Dataset\n",
        "from transformers import BertTokenizer, BertModel, AdamW, get_linear_schedule_with_warmup\n",
        "from sklearn.model_selection import train_test_split\n",
        "from sklearn.metrics import accuracy_score, classification_report\n",
        "import pandas as pd"
      ],
      "metadata": {
        "id": "-Dt6ZrkSOtn5"
      },
      "execution_count": 40,
      "outputs": []
    },
    {
      "cell_type": "code",
      "source": [
        "from torch import cuda\n",
        "device = 'cuda' if cuda.is_available() else 'cpu'\n",
        "print(device)"
      ],
      "metadata": {
        "colab": {
          "base_uri": "https://localhost:8080/"
        },
        "id": "-u6Hw5vOPIM5",
        "outputId": "8c5477ac-e504-45d2-9256-d2e0cc41bc57"
      },
      "execution_count": 41,
      "outputs": [
        {
          "output_type": "stream",
          "name": "stdout",
          "text": [
            "cuda\n"
          ]
        }
      ]
    },
    {
      "cell_type": "code",
      "source": [
        "from google.colab import drive\n",
        "drive.mount('/content/gdrive/')"
      ],
      "metadata": {
        "colab": {
          "base_uri": "https://localhost:8080/"
        },
        "id": "pAHuLr16Mu9q",
        "outputId": "469a0678-780e-4603-eeec-925a9d691dc6"
      },
      "execution_count": null,
      "outputs": [
        {
          "output_type": "stream",
          "name": "stdout",
          "text": [
            "Mounted at /content/gdrive/\n"
          ]
        }
      ]
    },
    {
      "cell_type": "code",
      "source": [
        "def load_data(data_file):\n",
        "    df = pd.read_csv(data_file)\n",
        "    df = df.fillna('')\n",
        "    df['combined_text'] = df['author'] + df['title'] + df['text']\n",
        "    texts = df['combined_text'].tolist()\n",
        "    print(df['combined_text'].head(5))\n",
        "    labels = df['label'].tolist()\n",
        "    return texts, labels"
      ],
      "metadata": {
        "id": "_ACz9QDZ6EFF"
      },
      "execution_count": 42,
      "outputs": []
    },
    {
      "cell_type": "code",
      "source": [
        "data_file = \"/content/gdrive/MyDrive/ColabNotebooks/train.csv\"\n",
        "texts, labels = load_data(data_file)"
      ],
      "metadata": {
        "colab": {
          "base_uri": "https://localhost:8080/"
        },
        "id": "t6dX3z-c6Gu8",
        "outputId": "1a0c2ae2-600e-448d-f364-ee898aa0588c"
      },
      "execution_count": 43,
      "outputs": [
        {
          "output_type": "stream",
          "name": "stdout",
          "text": [
            "0    Darrell LucusHouse Dem Aide: We Didn’t Even Se...\n",
            "1    Daniel J. FlynnFLYNN: Hillary Clinton, Big Wom...\n",
            "2    Consortiumnews.comWhy the Truth Might Get You ...\n",
            "3    Jessica Purkiss15 Civilians Killed In Single U...\n",
            "4    Howard PortnoyIranian woman jailed for fiction...\n",
            "Name: combined_text, dtype: object\n"
          ]
        }
      ]
    },
    {
      "cell_type": "code",
      "source": [
        "class TextClassificationDataset(Dataset):\n",
        "  def __init__(self, texts, labels, tokenizer, max_length):\n",
        "          self.texts = texts\n",
        "          self.labels = labels\n",
        "          self.tokenizer = tokenizer\n",
        "          self.max_length = max_length\n",
        "  def __len__(self):\n",
        "          return len(self.texts)\n",
        "  def __getitem__(self, idx):\n",
        "          text = self.texts[idx]\n",
        "          label = self.labels[idx]\n",
        "          encoding = self.tokenizer(text, return_tensors='pt', max_length=self.max_length, padding='max_length', truncation=True)\n",
        "          return {'input_ids': encoding['input_ids'].flatten(), 'attention_mask': encoding['attention_mask'].flatten(), 'labels': torch.tensor(label)}"
      ],
      "metadata": {
        "id": "ESz0p6Kx6tW8"
      },
      "execution_count": 44,
      "outputs": []
    },
    {
      "cell_type": "code",
      "source": [
        "class BERTClassifier(nn.Module):\n",
        "  def __init__(self, bert_model_name, num_classes):\n",
        "        super(BERTClassifier, self).__init__()\n",
        "        self.bert = BertModel.from_pretrained(bert_model_name)\n",
        "        self.dropout = nn.Dropout(0.1)\n",
        "        self.fc = nn.Linear(self.bert.config.hidden_size, num_classes)\n",
        "\n",
        "  def forward(self, input_ids, attention_mask):\n",
        "        outputs = self.bert(input_ids=input_ids, attention_mask=attention_mask)\n",
        "        pooled_output = outputs.pooler_output\n",
        "        x = self.dropout(pooled_output)\n",
        "        logits = self.fc(x)\n",
        "        return logits"
      ],
      "metadata": {
        "id": "nepbkSmz7RrA"
      },
      "execution_count": 45,
      "outputs": []
    },
    {
      "cell_type": "code",
      "source": [
        "def train(model, data_loader, optimizer, scheduler, device, save_path, num_epoch):\n",
        "    model.train()\n",
        "    loss_values = []  # Список для зберігання значень лоссу\n",
        "    for batch_idx, batch in enumerate(data_loader):\n",
        "        optimizer.zero_grad()\n",
        "\n",
        "        input_ids = batch['input_ids'].to(device)\n",
        "        attention_mask = batch['attention_mask'].to(device)\n",
        "        labels = batch['labels'].to(device)\n",
        "\n",
        "        # Forward pass\n",
        "        outputs = model(input_ids=input_ids, attention_mask=attention_mask)\n",
        "\n",
        "        # Assuming the outputs are logits directly\n",
        "        logits = outputs\n",
        "\n",
        "        # Compute loss\n",
        "        loss = torch.nn.CrossEntropyLoss()(logits, labels)\n",
        "        loss.backward()\n",
        "        optimizer.step()\n",
        "        scheduler.step()\n",
        "\n",
        "        # Збереження лоссу\n",
        "        loss_values.append(loss.item())\n",
        "\n",
        "    # Збереження моделі після кожної ітерації\n",
        "    model_save_path = os.path.join(save_path, f\"model_epoch_{num_epoch}.pt\")\n",
        "    torch.save(model.state_dict(), model_save_path)\n",
        "    print(f\"Model saved after epoch {num_epoch} at {model_save_path}\")\n",
        "\n",
        "    # Return loss values for further analysis\n",
        "    return loss_values"
      ],
      "metadata": {
        "id": "G1hTXe6-7Xg-"
      },
      "execution_count": 46,
      "outputs": []
    },
    {
      "cell_type": "code",
      "source": [
        "def evaluate(model, data_loader, device):\n",
        "    model.eval()\n",
        "    predictions = []\n",
        "    actual_labels = []\n",
        "    with torch.no_grad():\n",
        "        for batch in data_loader:\n",
        "            input_ids = batch['input_ids'].to(device)\n",
        "            attention_mask = batch['attention_mask'].to(device)\n",
        "            labels = batch['labels'].to(device)\n",
        "            outputs = model(input_ids=input_ids, attention_mask=attention_mask)\n",
        "            _, preds = torch.max(outputs, dim=1)\n",
        "            predictions.extend(preds.cpu().tolist())\n",
        "            actual_labels.extend(labels.cpu().tolist())\n",
        "    return accuracy_score(actual_labels, predictions), classification_report(actual_labels, predictions)"
      ],
      "metadata": {
        "id": "izoiDSVh9vqW"
      },
      "execution_count": 47,
      "outputs": []
    },
    {
      "cell_type": "code",
      "source": [
        "def predict_sentiment(text, model, tokenizer, device, max_length=128):\n",
        "    model.eval()\n",
        "    encoding = tokenizer(text, return_tensors='pt', max_length=max_length, padding='max_length', truncation=True)\n",
        "    input_ids = encoding['input_ids'].to(device)\n",
        "    attention_mask = encoding['attention_mask'].to(device)\n",
        "\n",
        "    with torch.no_grad():\n",
        "            outputs = model(input_ids=input_ids, attention_mask=attention_mask)\n",
        "            _, preds = torch.max(outputs, dim=1)\n",
        "    return \"reliable\" if preds.item() == 0 else \"fake\""
      ],
      "metadata": {
        "id": "CI51W6dc94jP"
      },
      "execution_count": 49,
      "outputs": []
    },
    {
      "cell_type": "code",
      "source": [
        " bert_model_name = 'bert-base-uncased'\n",
        " num_classes = 2\n",
        " max_length = 128\n",
        " batch_size = 16\n",
        " num_epochs = 4\n",
        " learning_rate = 2e-5\n"
      ],
      "metadata": {
        "id": "9dUD7Ymk-aru"
      },
      "execution_count": 48,
      "outputs": []
    },
    {
      "cell_type": "code",
      "source": [
        "train_texts, val_texts, train_labels, val_labels = train_test_split(texts, labels, test_size=0.2, random_state=42)"
      ],
      "metadata": {
        "id": "Is7UQNWz-i9v"
      },
      "execution_count": 50,
      "outputs": []
    },
    {
      "cell_type": "code",
      "source": [
        "tokenizer = BertTokenizer.from_pretrained(bert_model_name)\n",
        "train_dataset = TextClassificationDataset(train_texts, train_labels, tokenizer, max_length)\n",
        "val_dataset = TextClassificationDataset(val_texts, val_labels, tokenizer, max_length)\n",
        "train_dataloader = DataLoader(train_dataset, batch_size=batch_size, shuffle=True)\n",
        "val_dataloader = DataLoader(val_dataset, batch_size=batch_size)\n"
      ],
      "metadata": {
        "id": "sb4qVNgP-lcH",
        "colab": {
          "base_uri": "https://localhost:8080/",
          "height": 269,
          "referenced_widgets": [
            "dfbd7d69bf7e47298f7282af5267b908",
            "20a1ea07e925477a842a9e2e167551c6",
            "a9fcfd98d4664490a00b548ca4888a0f",
            "c8267beef8ea4acd895b3b218d203b20",
            "74f6c5df0e1d4f2d9ea0c1bc32bac761",
            "16da871968344475a245d72256c6180c",
            "5a2378e9916e4d21b5ca41676b5ff2f0",
            "b20f8d6c4eb748cca4efb03a7bda752d",
            "4ec81d572789426d9e29e3ac31aadff2",
            "7c340b07da0a42d0975fbc187bdf584f",
            "1a232ab5db6046508d4f076da4d4f298",
            "2c9d9d7e68434a7283ac8122b0922065",
            "82b6966c72cb435d8fa70545cc185255",
            "0b387586d56743f3ae7ecf37472b4767",
            "b6e8ca0358c34920a1772fa71dbb2ce2",
            "04b9f47e672945e084f35dc80b0ca793",
            "bd0350ef80c7424b8e789585b2c6ebb9",
            "64e4239ece324b5bb431c5f398d6136d",
            "920f43b476554d9591bd5851c3a76409",
            "2875310426344d0286d17389ab6e5459",
            "b2edcf029269410c8bf131b2984d0805",
            "aa4b8039bbc94507bd8276733b606586",
            "056939d7617c4a17932393f42fd67f6e",
            "3e2988e452b1444a9e33b38e7a9ec97f",
            "7c5ee75c8b4f440e9738d69dbacd9fc5",
            "263516980b5e41c5bccb1f14d591b3d0",
            "bcfd785f6b8f4d72a994ecc77749281c",
            "821c3459b8f14314a04a2df9131dee44",
            "8dc291e560914fb58cc92a5f97e8e5b5",
            "3bfaef2cd38a42438bcc4741ca7bcabc",
            "67da7fcd24934320ac228d5ee6c59017",
            "a2f2107a68094f63841559be956128d9",
            "d8a472fd32c44cc7aec272830660f0fc",
            "b38d4dadb68b4717a12afabc1ca4ee10",
            "9d866cb2c9c74ee8949cbc373d374b28",
            "b21a5bab82394a3cad3f51784be00658",
            "3da2cedb5ce04b45843f8e0fbbd3cead",
            "6ece16b236e84098aca2bcef9f18ac97",
            "83700552c8b7408186421d974ba3b920",
            "28a073db770a4356ad616dad2d4d539c",
            "022b908a13bd456399af232d621e8fea",
            "646b756bbfca4f4cb894a3b419d5120e",
            "935180dbc9d64833964dc8a9fd29bfc3",
            "b769dbb4fb7a4b66b7d0eaf721b0675d"
          ]
        },
        "outputId": "9f98274e-c107-41d1-b93f-aa24f6f220ee"
      },
      "execution_count": 51,
      "outputs": [
        {
          "output_type": "stream",
          "name": "stderr",
          "text": [
            "/usr/local/lib/python3.10/dist-packages/huggingface_hub/utils/_token.py:88: UserWarning: \n",
            "The secret `HF_TOKEN` does not exist in your Colab secrets.\n",
            "To authenticate with the Hugging Face Hub, create a token in your settings tab (https://huggingface.co/settings/tokens), set it as secret in your Google Colab and restart your session.\n",
            "You will be able to reuse this secret in all of your notebooks.\n",
            "Please note that authentication is recommended but still optional to access public models or datasets.\n",
            "  warnings.warn(\n"
          ]
        },
        {
          "output_type": "display_data",
          "data": {
            "text/plain": [
              "tokenizer_config.json:   0%|          | 0.00/48.0 [00:00<?, ?B/s]"
            ],
            "application/vnd.jupyter.widget-view+json": {
              "version_major": 2,
              "version_minor": 0,
              "model_id": "dfbd7d69bf7e47298f7282af5267b908"
            }
          },
          "metadata": {}
        },
        {
          "output_type": "display_data",
          "data": {
            "text/plain": [
              "vocab.txt:   0%|          | 0.00/232k [00:00<?, ?B/s]"
            ],
            "application/vnd.jupyter.widget-view+json": {
              "version_major": 2,
              "version_minor": 0,
              "model_id": "2c9d9d7e68434a7283ac8122b0922065"
            }
          },
          "metadata": {}
        },
        {
          "output_type": "display_data",
          "data": {
            "text/plain": [
              "tokenizer.json:   0%|          | 0.00/466k [00:00<?, ?B/s]"
            ],
            "application/vnd.jupyter.widget-view+json": {
              "version_major": 2,
              "version_minor": 0,
              "model_id": "056939d7617c4a17932393f42fd67f6e"
            }
          },
          "metadata": {}
        },
        {
          "output_type": "display_data",
          "data": {
            "text/plain": [
              "config.json:   0%|          | 0.00/570 [00:00<?, ?B/s]"
            ],
            "application/vnd.jupyter.widget-view+json": {
              "version_major": 2,
              "version_minor": 0,
              "model_id": "b38d4dadb68b4717a12afabc1ca4ee10"
            }
          },
          "metadata": {}
        }
      ]
    },
    {
      "cell_type": "code",
      "source": [
        "device = torch.device(\"cuda\" if torch.cuda.is_available() else \"cpu\")\n",
        "model = BERTClassifier(bert_model_name, num_classes).to(device)"
      ],
      "metadata": {
        "id": "gI53gaCI-w7z",
        "colab": {
          "base_uri": "https://localhost:8080/",
          "height": 49,
          "referenced_widgets": [
            "238ac4fdcb08489e9ac1fac17431ca8d",
            "64071aa81a6441fb96628fa8a2154500",
            "5cc0b540f17a4f05b7c8421aaebb6f42",
            "1ac0d6d1214d426d844be53259c1549b",
            "85667f6e4f5f4aafa4908240bf37ec15",
            "66e5f8de3afa4a0894df9fb6a1debe98",
            "338dd27a4cce4c01bfb4bef62ad50157",
            "b860b43758a0423d8d82736b65d74d9a",
            "52d1bf16ede440cb91128cc6e3b51a23",
            "809b5a67390b462aab2b9c497f60d273",
            "981df16489744dfda825367bba0882e0"
          ]
        },
        "outputId": "91403991-939a-4c8b-b4ee-4b29907c9424"
      },
      "execution_count": 52,
      "outputs": [
        {
          "output_type": "display_data",
          "data": {
            "text/plain": [
              "model.safetensors:   0%|          | 0.00/440M [00:00<?, ?B/s]"
            ],
            "application/vnd.jupyter.widget-view+json": {
              "version_major": 2,
              "version_minor": 0,
              "model_id": "238ac4fdcb08489e9ac1fac17431ca8d"
            }
          },
          "metadata": {}
        }
      ]
    },
    {
      "cell_type": "code",
      "source": [
        "optimizer = AdamW(model.parameters(), lr=learning_rate)\n",
        "total_steps = len(train_dataloader) * num_epochs\n",
        "scheduler = get_linear_schedule_with_warmup(optimizer, num_warmup_steps=0, num_training_steps=total_steps)"
      ],
      "metadata": {
        "colab": {
          "base_uri": "https://localhost:8080/"
        },
        "id": "evDgZbXM_efT",
        "outputId": "0453e2e1-5a18-47f1-d7ec-49d7d707f713"
      },
      "execution_count": 53,
      "outputs": [
        {
          "output_type": "stream",
          "name": "stderr",
          "text": [
            "/usr/local/lib/python3.10/dist-packages/transformers/optimization.py:521: FutureWarning: This implementation of AdamW is deprecated and will be removed in a future version. Use the PyTorch implementation torch.optim.AdamW instead, or set `no_deprecation_warning=True` to disable this warning\n",
            "  warnings.warn(\n"
          ]
        }
      ]
    },
    {
      "cell_type": "code",
      "source": [
        "torch.save(model.state_dict(), \"/content/gdrive/MyDrive/ColabNotebooks/saved_model/bert_classifier.pth\")"
      ],
      "metadata": {
        "id": "WZbLUN2dZOZj"
      },
      "execution_count": null,
      "outputs": []
    },
    {
      "cell_type": "code",
      "source": [
        "import matplotlib.pyplot as plt\n",
        "\n",
        "plt.figure(figsize=(10, 5))\n",
        "plt.plot(history, label='Training Loss')\n",
        "plt.xlabel('Batch')\n",
        "plt.ylabel('Loss')\n",
        "plt.title('Training Loss per Batch')\n",
        "plt.legend()\n",
        "plt.show()"
      ],
      "metadata": {
        "colab": {
          "base_uri": "https://localhost:8080/",
          "height": 487
        },
        "id": "f8KwTtNbZTyy",
        "outputId": "63f678fe-66b3-4a25-a616-eaa71dbd74bf"
      },
      "execution_count": null,
      "outputs": [
        {
          "output_type": "display_data",
          "data": {
            "text/plain": [
              "<Figure size 1000x500 with 1 Axes>"
            ],
            "image/png": "[encoded data removed]"
          },
          "metadata": {}
        }
      ]
    },
    {
      "cell_type": "code",
      "source": [
        "history = []\n",
        "accuracy_history = []\n",
        "path = \"/content/gdrive/MyDrive/ColabNotebooks/saved_model\"\n",
        "for epoch in range(num_epochs):\n",
        "        print(f\"Epoch {epoch + 1}/{num_epochs}\")\n",
        "        history = train(model, train_dataloader, optimizer, scheduler, device, path, epoch )\n",
        "        accuracy, report = evaluate(model, val_dataloader, device)\n",
        "        print(f\"Validation Accuracy: {accuracy:.4f}\")\n",
        "        print(report)\n",
        "        accuracy_history.append(accuracy)\n"
      ],
      "metadata": {
        "colab": {
          "base_uri": "https://localhost:8080/"
        },
        "id": "DgUJZMat_iI5",
        "outputId": "dc6cbe63-1adf-454e-8f66-ea3b81ecf0a1"
      },
      "execution_count": null,
      "outputs": [
        {
          "output_type": "stream",
          "name": "stdout",
          "text": [
            "Epoch 1/4\n",
            "Model saved after epoch 0 at /content/gdrive/MyDrive/ColabNotebooks/saved_model/model_epoch_0.pt\n",
            "Validation Accuracy: 0.9988\n",
            "              precision    recall  f1-score   support\n",
            "\n",
            "           0       1.00      1.00      1.00      2132\n",
            "           1       1.00      1.00      1.00      2028\n",
            "\n",
            "    accuracy                           1.00      4160\n",
            "   macro avg       1.00      1.00      1.00      4160\n",
            "weighted avg       1.00      1.00      1.00      4160\n",
            "\n",
            "Epoch 2/4\n",
            "Model saved after epoch 1 at /content/gdrive/MyDrive/ColabNotebooks/saved_model/model_epoch_1.pt\n",
            "Validation Accuracy: 0.9988\n",
            "              precision    recall  f1-score   support\n",
            "\n",
            "           0       1.00      1.00      1.00      2132\n",
            "           1       1.00      1.00      1.00      2028\n",
            "\n",
            "    accuracy                           1.00      4160\n",
            "   macro avg       1.00      1.00      1.00      4160\n",
            "weighted avg       1.00      1.00      1.00      4160\n",
            "\n",
            "Epoch 3/4\n",
            "Model saved after epoch 2 at /content/gdrive/MyDrive/ColabNotebooks/saved_model/model_epoch_2.pt\n",
            "Validation Accuracy: 0.9990\n",
            "              precision    recall  f1-score   support\n",
            "\n",
            "           0       1.00      1.00      1.00      2132\n",
            "           1       1.00      1.00      1.00      2028\n",
            "\n",
            "    accuracy                           1.00      4160\n",
            "   macro avg       1.00      1.00      1.00      4160\n",
            "weighted avg       1.00      1.00      1.00      4160\n",
            "\n",
            "Epoch 4/4\n",
            "Model saved after epoch 3 at /content/gdrive/MyDrive/ColabNotebooks/saved_model/model_epoch_3.pt\n",
            "Validation Accuracy: 0.9993\n",
            "              precision    recall  f1-score   support\n",
            "\n",
            "           0       1.00      1.00      1.00      2132\n",
            "           1       1.00      1.00      1.00      2028\n",
            "\n",
            "    accuracy                           1.00      4160\n",
            "   macro avg       1.00      1.00      1.00      4160\n",
            "weighted avg       1.00      1.00      1.00      4160\n",
            "\n"
          ]
        }
      ]
    },
    {
      "cell_type": "code",
      "source": [
        "plt.figure(figsize=(10, 5))\n",
        "plt.plot(accuracy_history, label='Validation Accuracy')\n",
        "plt.xlabel('Epoch')\n",
        "plt.ylabel('Accuracy')\n",
        "plt.title('Training Accuracy per Epoch')\n",
        "plt.legend()\n",
        "plt.show()"
      ],
      "metadata": {
        "colab": {
          "base_uri": "https://localhost:8080/",
          "height": 487
        },
        "id": "24t7pB7lZnkX",
        "outputId": "a3650b60-71d3-4bfd-b39e-61addf1ebf71"
      },
      "execution_count": null,
      "outputs": [
        {
          "output_type": "display_data",
          "data": {
            "text/plain": [
              "<Figure size 1000x500 with 1 Axes>"
            ],
            "image/png": "[encoded data removed]"
          },
          "metadata": {}
        }
      ]
    },
    {
      "cell_type": "code",
      "source": [
        "load_path = \"/content/gdrive/MyDrive/ColabNotebooks/saved_model/model_epoch_3.pt\"\n",
        "\n",
        "model.load_state_dict(torch.load(load_path))"
      ],
      "metadata": {
        "id": "a8_negCVZ-Kd",
        "colab": {
          "base_uri": "https://localhost:8080/"
        },
        "outputId": "1129a0bb-27b5-42fe-a84e-f1dffd6f4779"
      },
      "execution_count": 54,
      "outputs": [
        {
          "output_type": "execute_result",
          "data": {
            "text/plain": [
              "<All keys matched successfully>"
            ]
          },
          "metadata": {},
          "execution_count": 54
        }
      ]
    },
    {
      "cell_type": "code",
      "source": [
        "def load_data_test(data_file):\n",
        "    df = pd.read_csv(data_file)\n",
        "    df = df.fillna('')\n",
        "    df['combined_text'] = df['author'] + df['title'] + df['text']\n",
        "    texts = df['combined_text'].tolist()\n",
        "    return texts"
      ],
      "metadata": {
        "id": "EK90Q96Oj7s7"
      },
      "execution_count": 57,
      "outputs": []
    },
    {
      "cell_type": "code",
      "source": [
        "data_file = \"/content/gdrive/MyDrive/ColabNotebooks/test.csv\"\n",
        "texts_test = load_data_test(data_file)"
      ],
      "metadata": {
        "id": "3prko3u_mINU"
      },
      "execution_count": 58,
      "outputs": []
    },
    {
      "cell_type": "code",
      "source": [
        "def predict_sentiment_list(texts, model, tokenizer, device, max_length=128, batch_size=32):\n",
        "    model.eval()\n",
        "    predictions = []\n",
        "\n",
        "    # Обробка текстів по батчам\n",
        "    for i in range(0, len(texts), batch_size):\n",
        "        batch_texts = texts[i:i + batch_size]\n",
        "        encoding = tokenizer(batch_texts, return_tensors='pt', max_length=max_length, padding=True, truncation=True)\n",
        "        input_ids = encoding['input_ids'].to(device)\n",
        "        attention_mask = encoding['attention_mask'].to(device)\n",
        "\n",
        "        with torch.no_grad():\n",
        "            outputs = model(input_ids=input_ids, attention_mask=attention_mask)\n",
        "            _, preds = torch.max(outputs, dim=1)\n",
        "            batch_predictions = [0 if pred == 0 else 1 for pred in preds]\n",
        "            predictions.extend(batch_predictions)\n",
        "\n",
        "    return predictions\n"
      ],
      "metadata": {
        "id": "ymyJeP9Cm_PL"
      },
      "execution_count": 63,
      "outputs": []
    },
    {
      "cell_type": "code",
      "source": [
        "sentiments = predict_sentiment_list(texts_test, model, tokenizer, device)"
      ],
      "metadata": {
        "id": "8x1nb6CFoPyH"
      },
      "execution_count": 64,
      "outputs": []
    },
    {
      "cell_type": "code",
      "source": [
        "print(sentiments)"
      ],
      "metadata": {
        "colab": {
          "base_uri": "https://localhost:8080/"
        },
        "id": "fxNw-eAat5UO",
        "outputId": "c3d71e39-005a-4fd4-d258-14df9baee533"
      },
      "execution_count": 65,
      "outputs": [
        {
          "output_type": "stream",
          "name": "stdout",
          "text": [
            "[0, 1, 1, 0, 1, 1, 0, 1, 1, 1, 1, 1, 1, 1, 1, 0, 0, 0, 1, 0, 1, 1, 1, 1, 1, 0, 1, 0, 0, 1, 0, 1, 0, 0, 1, 0, 0, 1, 1, 0, 0, 0, 1, 0, 0, 1, 0, 0, 1, 1, 0, 1, 0, 1, 1, 0, 1, 0, 0, 0, 1, 1, 1, 0, 1, 1, 1, 1, 1, 0, 1, 1, 1, 0, 0, 0, 0, 0, 1, 0, 0, 1, 0, 1, 1, 1, 0, 0, 0, 0, 1, 0, 0, 1, 1, 0, 0, 0, 1, 1, 0, 1, 0, 0, 0, 0, 1, 0, 1, 1, 1, 1, 0, 0, 0, 0, 0, 1, 0, 1, 1, 0, 1, 0, 0, 1, 1, 0, 1, 0, 1, 0, 1, 0, 0, 0, 0, 1, 1, 1, 1, 0, 1, 1, 1, 0, 1, 1, 0, 0, 1, 0, 0, 1, 0, 1, 0, 1, 0, 1, 1, 1, 1, 1, 0, 1, 0, 1, 1, 0, 0, 0, 0, 1, 0, 0, 0, 0, 0, 0, 0, 0, 0, 1, 0, 1, 1, 0, 1, 0, 1, 0, 0, 0, 1, 1, 1, 1, 1, 0, 0, 1, 0, 1, 1, 1, 1, 1, 0, 0, 0, 1, 1, 0, 1, 1, 1, 0, 0, 1, 0, 1, 0, 0, 1, 1, 1, 1, 0, 0, 0, 0, 1, 1, 1, 1, 1, 1, 1, 0, 1, 1, 0, 1, 1, 0, 0, 1, 0, 1, 1, 1, 1, 0, 1, 0, 0, 1, 1, 1, 0, 1, 1, 0, 1, 1, 1, 1, 0, 1, 0, 0, 1, 1, 0, 0, 0, 0, 0, 1, 1, 1, 0, 1, 1, 0, 0, 1, 0, 1, 0, 1, 0, 1, 1, 1, 1, 0, 1, 0, 0, 0, 1, 1, 1, 0, 1, 1, 0, 0, 0, 1, 1, 0, 0, 1, 0, 1, 0, 1, 0, 0, 0, 1, 0, 1, 1, 0, 0, 1, 1, 0, 1, 1, 0, 1, 1, 0, 0, 0, 1, 0, 1, 0, 1, 0, 0, 1, 0, 1, 0, 0, 1, 1, 0, 1, 1, 1, 0, 0, 1, 0, 1, 1, 1, 0, 1, 1, 0, 0, 0, 1, 0, 0, 1, 0, 1, 1, 0, 0, 0, 1, 1, 0, 1, 1, 0, 1, 0, 0, 1, 1, 0, 1, 0, 1, 1, 0, 0, 0, 0, 0, 0, 0, 1, 0, 0, 1, 0, 0, 1, 0, 0, 0, 0, 0, 0, 0, 1, 0, 0, 0, 1, 0, 1, 1, 0, 1, 0, 0, 0, 1, 0, 1, 0, 0, 0, 1, 1, 0, 1, 0, 1, 0, 0, 1, 0, 1, 0, 0, 1, 1, 1, 1, 0, 0, 0, 0, 1, 0, 0, 0, 0, 0, 0, 0, 0, 0, 0, 0, 1, 0, 0, 0, 1, 0, 1, 1, 0, 1, 1, 0, 1, 0, 0, 0, 1, 1, 0, 0, 0, 0, 0, 1, 0, 0, 0, 1, 1, 1, 1, 0, 0, 1, 1, 1, 0, 0, 0, 0, 1, 1, 1, 0, 0, 1, 0, 0, 0, 0, 0, 0, 1, 1, 0, 1, 0, 0, 1, 1, 1, 1, 0, 1, 1, 0, 1, 0, 1, 0, 1, 1, 1, 0, 0, 1, 0, 0, 1, 0, 0, 1, 0, 1, 1, 0, 1, 0, 0, 1, 0, 1, 0, 0, 1, 1, 0, 1, 1, 0, 1, 0, 1, 0, 0, 0, 0, 1, 0, 1, 0, 0, 1, 1, 0, 1, 1, 1, 0, 1, 1, 1, 0, 0, 0, 0, 0, 0, 0, 0, 1, 0, 1, 1, 0, 0, 0, 1, 0, 0, 1, 1, 0, 0, 0, 1, 1, 0, 0, 1, 1, 0, 1, 0, 0, 0, 1, 0, 1, 0, 0, 1, 0, 1, 0, 0, 0, 1, 0, 1, 0, 1, 1, 1, 0, 1, 1, 0, 1, 1, 1, 1, 0, 1, 0, 1, 0, 1, 0, 0, 1, 1, 0, 1, 0, 0, 0, 0, 1, 0, 0, 1, 0, 0, 0, 0, 1, 1, 0, 1, 1, 0, 1, 0, 0, 1, 0, 1, 1, 0, 0, 0, 1, 1, 0, 0, 1, 0, 1, 0, 0, 0, 0, 1, 1, 1, 1, 0, 0, 0, 0, 1, 0, 1, 0, 0, 1, 1, 0, 0, 1, 0, 1, 1, 1, 0, 0, 0, 1, 0, 0, 0, 0, 0, 0, 0, 0, 1, 1, 0, 1, 1, 0, 0, 1, 0, 0, 0, 0, 0, 1, 1, 1, 1, 0, 1, 0, 0, 1, 1, 0, 0, 0, 0, 1, 1, 0, 1, 0, 0, 0, 1, 0, 1, 0, 0, 0, 1, 1, 1, 1, 1, 1, 1, 1, 1, 0, 0, 0, 0, 0, 0, 0, 1, 1, 0, 0, 1, 0, 1, 0, 0, 1, 1, 0, 0, 0, 1, 0, 1, 1, 1, 1, 0, 1, 0, 0, 0, 1, 0, 0, 1, 0, 1, 1, 0, 1, 1, 1, 1, 0, 1, 0, 1, 0, 1, 0, 1, 0, 1, 1, 1, 0, 0, 0, 1, 0, 0, 0, 1, 1, 1, 1, 0, 1, 0, 1, 1, 1, 0, 0, 1, 0, 1, 0, 1, 0, 1, 1, 0, 1, 0, 0, 1, 0, 0, 0, 1, 1, 0, 0, 1, 1, 1, 1, 1, 1, 1, 1, 1, 1, 0, 1, 0, 0, 1, 0, 0, 0, 1, 1, 0, 0, 0, 0, 1, 0, 1, 1, 1, 0, 0, 1, 1, 1, 1, 0, 0, 1, 0, 0, 1, 1, 1, 0, 1, 1, 0, 0, 1, 1, 0, 1, 1, 0, 0, 0, 0, 1, 0, 1, 1, 1, 1, 1, 0, 1, 1, 1, 1, 1, 0, 0, 1, 0, 0, 1, 1, 0, 0, 1, 0, 1, 1, 0, 1, 1, 0, 0, 1, 0, 0, 0, 0, 1, 0, 0, 0, 1, 0, 0, 0, 1, 1, 1, 1, 0, 0, 0, 1, 1, 0, 0, 0, 1, 0, 1, 0, 1, 0, 0, 1, 1, 1, 0, 0, 1, 1, 1, 1, 1, 1, 0, 0, 1, 0, 1, 0, 1, 0, 0, 1, 0, 0, 1, 0, 1, 1, 1, 1, 1, 1, 1, 1, 1, 1, 0, 1, 0, 1, 1, 1, 0, 0, 1, 0, 0, 1, 1, 1, 1, 1, 0, 1, 1, 1, 0, 1, 0, 0, 0, 1, 1, 1, 0, 1, 1, 0, 0, 1, 1, 0, 0, 1, 1, 1, 0, 0, 1, 1, 0, 1, 1, 0, 1, 0, 0, 0, 1, 0, 1, 0, 0, 0, 0, 1, 1, 0, 0, 1, 0, 1, 1, 1, 1, 1, 1, 1, 1, 0, 1, 0, 0, 0, 1, 1, 0, 0, 0, 0, 0, 1, 0, 0, 0, 0, 0, 1, 1, 1, 1, 1, 1, 1, 1, 0, 1, 1, 1, 1, 1, 0, 0, 1, 1, 1, 1, 1, 0, 0, 1, 1, 0, 0, 1, 1, 0, 1, 0, 0, 1, 0, 0, 0, 0, 1, 1, 0, 1, 1, 0, 1, 0, 0, 1, 1, 1, 0, 1, 0, 0, 1, 0, 0, 1, 1, 0, 1, 0, 0, 1, 0, 1, 1, 1, 1, 0, 0, 0, 0, 1, 1, 1, 1, 1, 1, 1, 0, 0, 0, 0, 1, 0, 0, 0, 0, 0, 0, 0, 1, 1, 1, 0, 1, 0, 0, 1, 1, 0, 1, 1, 1, 0, 1, 1, 0, 0, 0, 1, 0, 0, 1, 1, 0, 0, 1, 1, 0, 0, 1, 0, 0, 0, 0, 1, 1, 1, 1, 1, 1, 0, 1, 1, 0, 0, 1, 1, 0, 1, 1, 1, 1, 0, 0, 1, 0, 0, 0, 0, 0, 0, 1, 0, 0, 0, 1, 1, 1, 0, 1, 1, 0, 1, 1, 0, 0, 1, 0, 0, 0, 0, 0, 1, 0, 1, 0, 0, 0, 1, 0, 1, 1, 1, 1, 0, 1, 0, 0, 0, 0, 1, 1, 1, 1, 0, 0, 1, 1, 0, 0, 1, 1, 0, 1, 0, 0, 0, 0, 0, 0, 0, 0, 1, 0, 1, 0, 1, 1, 0, 1, 0, 0, 1, 0, 0, 1, 0, 1, 1, 1, 1, 1, 0, 0, 0, 1, 1, 0, 1, 1, 0, 0, 1, 0, 1, 0, 0, 0, 1, 0, 0, 1, 0, 0, 1, 1, 1, 0, 0, 0, 0, 0, 1, 1, 0, 1, 0, 1, 1, 0, 0, 0, 0, 1, 1, 0, 0, 0, 1, 1, 0, 1, 1, 1, 1, 0, 0, 1, 0, 1, 0, 1, 1, 1, 1, 1, 0, 0, 1, 1, 1, 1, 0, 0, 0, 0, 1, 1, 1, 1, 0, 0, 1, 0, 1, 1, 0, 0, 1, 0, 1, 0, 1, 0, 0, 0, 1, 0, 1, 1, 1, 0, 1, 0, 1, 1, 0, 0, 1, 1, 0, 0, 1, 1, 0, 1, 1, 0, 1, 1, 0, 0, 1, 1, 0, 1, 1, 0, 0, 1, 0, 0, 0, 0, 0, 1, 0, 0, 0, 1, 1, 1, 0, 0, 1, 1, 1, 1, 0, 0, 0, 0, 0, 1, 1, 1, 1, 0, 0, 1, 0, 1, 0, 1, 0, 1, 1, 0, 1, 1, 1, 1, 0, 1, 1, 0, 0, 0, 1, 0, 0, 0, 1, 0, 0, 0, 0, 1, 0, 0, 1, 0, 1, 1, 1, 0, 1, 1, 1, 1, 1, 0, 0, 0, 1, 1, 1, 0, 0, 0, 1, 1, 1, 1, 0, 0, 0, 1, 1, 1, 0, 1, 1, 1, 0, 1, 1, 1, 0, 1, 0, 1, 0, 1, 0, 1, 0, 1, 0, 1, 0, 1, 0, 1, 1, 1, 1, 1, 0, 0, 0, 0, 1, 0, 1, 1, 0, 1, 1, 1, 0, 0, 0, 0, 0, 1, 0, 1, 1, 0, 0, 1, 1, 1, 1, 1, 0, 0, 1, 0, 1, 1, 1, 0, 1, 0, 0, 1, 1, 1, 1, 1, 0, 0, 1, 1, 1, 0, 0, 0, 0, 1, 0, 0, 0, 1, 1, 1, 0, 0, 0, 1, 0, 1, 0, 1, 1, 1, 1, 0, 1, 1, 1, 0, 1, 0, 1, 0, 0, 0, 0, 1, 0, 0, 1, 0, 0, 0, 1, 0, 0, 0, 0, 0, 0, 0, 1, 1, 1, 1, 1, 0, 0, 0, 1, 0, 1, 1, 0, 1, 0, 1, 1, 0, 1, 0, 0, 1, 0, 1, 1, 1, 1, 1, 1, 0, 0, 1, 1, 0, 0, 1, 0, 1, 1, 0, 0, 1, 0, 1, 0, 0, 0, 0, 1, 0, 0, 1, 0, 1, 0, 0, 1, 1, 1, 0, 0, 0, 1, 0, 0, 1, 1, 1, 1, 1, 1, 0, 1, 1, 0, 0, 1, 0, 0, 1, 0, 1, 0, 0, 0, 1, 0, 0, 0, 0, 0, 1, 0, 0, 1, 1, 0, 0, 0, 0, 1, 0, 0, 0, 1, 1, 0, 1, 1, 1, 0, 1, 1, 1, 0, 1, 1, 0, 0, 1, 0, 0, 1, 1, 1, 0, 1, 0, 0, 0, 1, 1, 0, 0, 1, 0, 1, 0, 0, 1, 0, 1, 1, 1, 1, 1, 0, 1, 1, 1, 0, 1, 0, 0, 0, 1, 1, 1, 0, 1, 1, 0, 0, 1, 0, 1, 1, 1, 1, 1, 1, 1, 0, 1, 0, 1, 0, 0, 1, 0, 0, 0, 0, 1, 0, 0, 1, 0, 0, 1, 1, 1, 1, 1, 1, 1, 0, 0, 0, 1, 0, 1, 1, 1, 0, 0, 0, 1, 0, 0, 1, 0, 0, 1, 0, 0, 1, 0, 0, 0, 0, 0, 0, 1, 0, 0, 1, 1, 1, 0, 1, 1, 0, 0, 0, 1, 0, 0, 0, 1, 1, 1, 0, 1, 1, 0, 0, 1, 1, 1, 0, 0, 1, 1, 0, 1, 1, 0, 0, 0, 0, 0, 0, 1, 1, 0, 1, 0, 1, 0, 0, 1, 0, 1, 1, 0, 1, 0, 1, 0, 0, 0, 0, 1, 1, 0, 1, 1, 0, 1, 1, 0, 0, 1, 0, 1, 1, 1, 0, 1, 1, 0, 1, 1, 0, 1, 0, 1, 0, 0, 0, 0, 1, 1, 1, 1, 0, 0, 0, 0, 0, 1, 0, 1, 0, 1, 0, 0, 0, 1, 1, 1, 1, 1, 1, 1, 1, 1, 1, 0, 1, 1, 0, 1, 0, 0, 1, 0, 1, 0, 0, 0, 0, 0, 0, 1, 1, 1, 0, 0, 1, 0, 1, 0, 1, 1, 0, 0, 0, 1, 1, 0, 0, 1, 1, 0, 1, 0, 1, 0, 0, 0, 0, 0, 1, 1, 1, 0, 1, 1, 0, 1, 0, 0, 1, 0, 1, 1, 0, 0, 0, 1, 1, 0, 1, 0, 1, 1, 1, 0, 0, 1, 0, 1, 1, 1, 0, 1, 0, 1, 1, 1, 1, 0, 1, 0, 1, 0, 1, 1, 1, 1, 1, 0, 0, 0, 1, 1, 0, 1, 0, 0, 1, 1, 1, 1, 0, 0, 1, 0, 1, 0, 0, 1, 1, 1, 0, 0, 1, 1, 1, 0, 0, 0, 1, 0, 1, 1, 1, 0, 0, 0, 1, 0, 1, 0, 1, 1, 0, 0, 1, 1, 1, 1, 1, 1, 0, 0, 1, 1, 1, 1, 1, 1, 0, 0, 0, 1, 1, 1, 1, 1, 0, 0, 0, 1, 1, 0, 1, 1, 1, 0, 0, 0, 0, 1, 1, 0, 1, 0, 1, 1, 0, 0, 0, 0, 1, 0, 1, 1, 1, 1, 0, 0, 1, 1, 1, 0, 1, 0, 1, 0, 1, 0, 0, 1, 0, 0, 0, 1, 1, 1, 1, 0, 0, 0, 0, 0, 1, 1, 1, 0, 0, 0, 1, 0, 1, 1, 0, 0, 0, 0, 0, 0, 0, 1, 0, 0, 0, 0, 1, 0, 0, 1, 0, 1, 0, 0, 0, 0, 1, 0, 1, 0, 0, 1, 0, 0, 0, 0, 0, 1, 1, 1, 0, 0, 0, 1, 1, 1, 0, 0, 1, 1, 0, 1, 1, 1, 0, 0, 0, 0, 1, 1, 1, 1, 0, 0, 1, 1, 0, 1, 1, 0, 1, 0, 0, 1, 0, 0, 0, 0, 1, 0, 1, 1, 1, 1, 1, 0, 1, 1, 0, 0, 0, 0, 0, 1, 0, 1, 0, 1, 1, 0, 1, 0, 0, 0, 1, 0, 1, 1, 0, 1, 0, 0, 0, 1, 0, 0, 1, 1, 1, 1, 1, 0, 0, 0, 1, 0, 0, 0, 0, 1, 0, 0, 0, 1, 1, 0, 1, 0, 0, 1, 0, 0, 0, 1, 0, 0, 1, 1, 0, 0, 0, 1, 0, 1, 0, 1, 0, 0, 1, 1, 1, 0, 1, 0, 0, 1, 0, 0, 1, 0, 1, 1, 0, 1, 0, 1, 1, 1, 1, 1, 0, 0, 0, 0, 1, 1, 0, 0, 0, 0, 0, 0, 1, 0, 1, 1, 0, 1, 1, 1, 0, 0, 0, 1, 1, 0, 0, 1, 1, 0, 1, 0, 0, 1, 0, 0, 1, 0, 0, 1, 1, 0, 0, 1, 0, 1, 0, 0, 0, 1, 0, 1, 1, 0, 1, 1, 1, 1, 0, 0, 0, 0, 1, 1, 0, 0, 1, 0, 1, 0, 1, 0, 0, 0, 1, 1, 1, 1, 1, 1, 0, 1, 1, 0, 0, 1, 0, 0, 1, 0, 0, 0, 0, 1, 1, 1, 0, 1, 0, 0, 0, 1, 0, 1, 1, 0, 1, 1, 0, 1, 0, 1, 1, 0, 0, 0, 1, 1, 1, 1, 0, 0, 1, 1, 1, 1, 1, 0, 0, 1, 1, 1, 0, 1, 0, 1, 1, 0, 1, 0, 1, 1, 0, 1, 1, 0, 0, 1, 1, 1, 1, 0, 1, 1, 0, 0, 0, 1, 1, 1, 1, 1, 0, 0, 0, 1, 0, 0, 1, 0, 0, 0, 1, 1, 1, 1, 1, 0, 1, 1, 0, 1, 1, 1, 1, 0, 1, 1, 0, 0, 1, 0, 1, 1, 0, 1, 1, 1, 0, 0, 1, 0, 1, 1, 1, 0, 1, 1, 0, 1, 1, 0, 0, 1, 0, 1, 0, 1, 1, 0, 0, 1, 1, 1, 0, 0, 1, 1, 1, 0, 1, 1, 1, 0, 0, 1, 0, 1, 1, 1, 0, 0, 0, 0, 1, 1, 1, 0, 0, 0, 1, 0, 0, 0, 1, 1, 1, 1, 0, 1, 0, 1, 0, 1, 0, 0, 0, 1, 0, 0, 1, 1, 1, 1, 1, 0, 0, 0, 1, 1, 0, 1, 0, 0, 1, 0, 1, 1, 0, 0, 0, 0, 0, 0, 0, 1, 0, 0, 1, 1, 0, 1, 1, 1, 0, 1, 0, 1, 1, 1, 0, 0, 0, 0, 0, 1, 0, 0, 1, 1, 0, 0, 1, 0, 1, 1, 1, 0, 0, 1, 0, 0, 1, 0, 1, 0, 1, 0, 1, 1, 0, 0, 0, 1, 1, 1, 1, 0, 0, 1, 0, 1, 0, 0, 1, 0, 0, 0, 0, 0, 1, 0, 0, 0, 1, 1, 0, 1, 0, 1, 1, 1, 1, 0, 0, 0, 0, 1, 0, 0, 0, 1, 0, 0, 0, 1, 0, 0, 1, 0, 1, 0, 0, 0, 0, 1, 1, 0, 1, 1, 0, 0, 0, 1, 1, 0, 0, 1, 0, 0, 1, 1, 1, 0, 0, 0, 0, 1, 0, 0, 1, 1, 0, 0, 0, 1, 1, 1, 1, 1, 1, 0, 0, 0, 1, 0, 1, 0, 1, 1, 0, 0, 1, 0, 0, 0, 0, 0, 0, 0, 1, 0, 1, 0, 1, 1, 1, 0, 0, 1, 1, 1, 0, 1, 1, 0, 1, 0, 1, 1, 0, 1, 1, 0, 1, 0, 0, 1, 1, 1, 0, 0, 0, 1, 0, 1, 1, 1, 0, 0, 0, 1, 1, 1, 0, 1, 0, 1, 1, 0, 1, 1, 0, 0, 1, 0, 0, 1, 1, 0, 0, 1, 0, 0, 1, 1, 1, 0, 0, 1, 0, 0, 0, 0, 1, 0, 0, 0, 1, 0, 0, 0, 1, 1, 1, 0, 0, 1, 0, 1, 0, 1, 0, 0, 0, 1, 0, 0, 1, 0, 0, 0, 1, 0, 0, 0, 1, 0, 0, 0, 0, 0, 0, 1, 0, 1, 1, 1, 1, 1, 1, 1, 1, 1, 0, 1, 1, 1, 1, 1, 1, 1, 0, 0, 1, 1, 1, 1, 0, 0, 1, 1, 1, 1, 1, 1, 0, 1, 0, 1, 0, 1, 0, 0, 0, 1, 0, 0, 0, 1, 0, 0, 1, 1, 0, 0, 1, 0, 1, 0, 1, 0, 1, 1, 0, 0, 0, 1, 1, 0, 0, 1, 1, 0, 0, 1, 0, 0, 0, 1, 1, 0, 1, 1, 1, 0, 1, 1, 1, 0, 0, 0, 0, 1, 0, 0, 1, 1, 1, 1, 0, 0, 1, 1, 1, 1, 0, 0, 0, 1, 0, 1, 0, 1, 0, 1, 1, 1, 1, 1, 1, 0, 0, 1, 0, 0, 1, 1, 0, 1, 0, 0, 0, 0, 0, 1, 1, 1, 1, 0, 0, 0, 1, 1, 1, 0, 0, 0, 1, 1, 0, 1, 1, 1, 0, 0, 0, 1, 1, 0, 1, 1, 1, 0, 1, 0, 0, 1, 1, 0, 0, 0, 1, 0, 0, 1, 1, 1, 1, 0, 0, 0, 0, 1, 0, 1, 1, 0, 0, 0, 0, 0, 0, 0, 1, 0, 0, 1, 1, 1, 1, 1, 0, 1, 0, 1, 0, 1, 0, 0, 0, 1, 1, 1, 0, 1, 0, 1, 1, 0, 0, 1, 1, 1, 0, 0, 1, 0, 0, 0, 0, 1, 1, 1, 0, 0, 0, 0, 1, 1, 1, 1, 1, 0, 0, 1, 0, 0, 0, 0, 1, 1, 1, 0, 1, 1, 0, 0, 0, 1, 1, 0, 0, 1, 0, 0, 0, 1, 0, 1, 1, 0, 1, 1, 0, 1, 0, 0, 0, 0, 1, 1, 0, 0, 1, 0, 1, 0, 1, 0, 0, 1, 1, 0, 0, 0, 1, 0, 0, 1, 0, 1, 1, 0, 1, 1, 0, 0, 0, 1, 0, 0, 1, 1, 1, 0, 1, 0, 1, 1, 1, 1, 0, 0, 0, 1, 0, 1, 1, 0, 1, 0, 0, 1, 0, 0, 1, 0, 0, 1, 1, 1, 0, 0, 1, 0, 0, 1, 1, 1, 1, 1, 0, 0, 1, 0, 0, 1, 1, 0, 1, 1, 0, 1, 0, 1, 1, 1, 0, 0, 0, 0, 1, 1, 0, 1, 1, 1, 0, 1, 1, 1, 0, 0, 0, 0, 1, 0, 0, 0, 1, 1, 0, 0, 0, 0, 0, 0, 0, 1, 0, 1, 1, 0, 1, 0, 1, 0, 1, 0, 1, 1, 0, 0, 0, 0, 0, 0, 0, 1, 1, 1, 1, 0, 0, 0, 1, 0, 0, 0, 1, 0, 1, 1, 1, 0, 0, 0, 1, 1, 0, 1, 0, 1, 0, 0, 0, 1, 0, 1, 1, 1, 1, 1, 1, 0, 0, 1, 0, 0, 1, 1, 1, 1, 0, 1, 0, 1, 1, 0, 0, 1, 0, 1, 0, 0, 1, 0, 0, 1, 1, 0, 0, 1, 0, 1, 1, 0, 0, 0, 0, 1, 0, 0, 0, 0, 0, 1, 1, 0, 0, 0, 1, 1, 0, 1, 0, 0, 1, 1, 1, 1, 1, 0, 0, 1, 1, 0, 0, 1, 1, 1, 1, 1, 0, 0, 0, 0, 1, 1, 0, 1, 0, 0, 1, 1, 0, 0, 0, 0, 1, 0, 1, 0, 0, 1, 1, 0, 0, 1, 0, 1, 1, 1, 1, 1, 1, 0, 1, 1, 1, 0, 1, 1, 0, 0, 1, 0, 1, 0, 0, 1, 0, 0, 1, 0, 0, 0, 0, 0, 0, 1, 0, 0, 0, 0, 1, 1, 0, 0, 0, 0, 0, 0, 1, 0, 0, 1, 1, 1, 0, 0, 0, 1, 1, 1, 0, 1, 1, 1, 1, 0, 0, 1, 0, 1, 1, 1, 1, 1, 0, 1, 0, 0, 1, 1, 1, 0, 1, 0, 0, 0, 0, 1, 1, 1, 0, 0, 1, 1, 0, 1, 0, 1, 1, 0, 0, 1, 0, 0, 1, 1, 1, 1, 0, 1, 1, 0, 0, 0, 0, 0, 0, 0, 0, 0, 0, 1, 1, 0, 0, 0, 0, 1, 1, 1, 1, 1, 0, 0, 1, 1, 0, 0, 0, 1, 1, 0, 0, 0, 1, 1, 0, 1, 1, 1, 1, 0, 0, 0, 1, 0, 1, 0, 1, 0, 1, 0, 1, 1, 1, 1, 0, 1, 1, 0, 0, 1, 0, 0, 0, 1, 1, 0, 1, 1, 1, 0, 1, 0, 0, 0, 1, 0, 0, 0, 1, 0, 0, 1, 0, 1, 1, 0, 0, 0, 1, 1, 0, 1, 1, 0, 1, 1, 1, 0, 1, 1, 0, 0, 0, 1, 0, 1, 0, 1, 0, 0, 1, 1, 0, 1, 1, 1, 1, 1, 1, 0, 0, 1, 0, 1, 0, 0, 0, 1, 1, 0, 1, 0, 0, 0, 1, 0, 0, 0, 1, 1, 0, 1, 1, 1, 1, 1, 1, 1, 0, 0, 0, 1, 0, 0, 0, 1, 0, 0, 1, 0, 0, 1, 1, 0, 1, 1, 0, 1, 1, 1, 0, 1, 1, 1, 1, 1, 1, 1, 1, 1, 1, 0, 0, 0, 1, 1, 1, 1, 1, 1, 1, 0, 0, 0, 0, 1, 0, 1, 1, 0, 1, 0, 1, 0, 1, 1, 0, 0, 0, 0, 0, 0, 1, 0, 1, 0, 1, 0, 1, 0, 1, 0, 0, 1, 0, 1, 1, 1, 1, 0, 0, 1, 1, 0, 1, 1, 0, 0, 0, 0, 1, 0, 1, 1, 0, 0, 1, 1, 0, 1, 1, 1, 0, 0, 0, 0, 0, 0, 1, 0, 1, 1, 1, 0, 1, 0, 1, 1, 1, 1, 1, 0, 0, 0, 1, 1, 0, 1, 1, 0, 1, 0, 0, 0, 0, 0, 1, 0, 0, 1, 1, 1, 0, 1, 0, 1, 0, 0, 0, 0, 0, 0, 0, 0, 0, 0, 1, 0, 0, 0, 0, 1, 0, 1, 0, 0, 0, 1, 0, 1, 1, 1, 0, 0, 0, 0, 1, 1, 0, 0, 0, 1, 0, 1, 0, 1, 1, 1, 1, 0, 1, 0, 1, 0, 1, 1, 0, 1, 0, 1, 1, 0, 1, 0, 1, 1, 1, 0, 0, 0, 1, 0, 1, 0, 0, 1, 0, 1, 1, 0, 1, 1, 1, 1, 1, 1, 1, 0, 0, 1, 0, 1, 0, 0, 1, 1, 0, 1, 0, 0, 0, 0, 0, 0, 0, 0, 1, 0, 0, 1, 1, 0, 1, 1, 0, 1, 1, 0, 1, 1, 1, 0, 1, 1, 0, 1, 1, 0, 0, 1, 1, 0, 0, 1, 0, 1, 0, 1, 0, 1, 0, 0, 1, 0, 1, 1, 1, 0, 1, 0, 1, 0, 1, 1, 1, 0, 1, 1, 0, 0, 1, 1, 0, 0, 0, 1, 1, 1, 1, 0, 1, 1, 1, 0, 0, 1, 0, 0, 1, 1, 1, 0, 0, 0, 0, 1, 1, 1, 1, 0, 1, 0, 1, 0, 0, 0, 0, 0, 1, 1, 0, 1, 1, 0, 0, 1, 0, 0, 1, 1, 0, 1, 1, 0, 1, 1, 0, 1, 1, 0, 1, 0, 0, 0, 0, 1, 1, 1, 1, 0, 0, 1, 1, 0, 0, 1, 0, 0, 0, 0, 1, 1, 1, 0, 1, 1, 1, 0, 0, 1, 1, 1, 1, 1, 0, 0, 1, 1, 0, 1, 1, 0, 1, 1, 1, 0, 1, 1, 0, 1, 1, 0, 0, 1, 0, 0, 0, 1, 0, 0, 1, 1, 0, 0, 1, 0, 0, 1, 1, 1, 0, 1, 1, 1, 0, 0, 1, 1, 1, 1, 0, 1, 0, 1, 1, 0, 1, 1, 1, 1, 1, 1, 0, 1, 0, 0, 1, 0, 0, 1, 0, 0, 0, 1, 0, 0, 1, 0, 1, 1, 1, 0, 1, 0, 1, 1, 1, 1, 1, 1, 0, 0, 1, 1, 1, 0, 1, 1, 0, 0, 1, 1, 0, 0, 0, 0, 1, 0, 0, 1, 1, 0, 0, 1, 0, 1, 1, 1, 0, 1, 0, 0, 1, 1, 0, 0, 1, 0, 0, 1, 1, 1, 0, 0, 0, 1, 1, 1, 0, 0, 0, 1, 0, 1, 1, 0, 1, 0, 0, 0, 1, 0, 0, 1, 0, 0, 1, 0, 0, 0, 0, 1, 1, 0, 1, 0, 1, 0, 0, 1, 1, 1, 1, 1, 1, 0, 1, 0, 1, 0, 1, 0, 0, 1, 1, 1, 1, 1, 0, 1, 1, 1, 0, 1, 1, 0, 1, 1, 0, 0, 1, 0, 0, 0, 1, 1, 1, 0, 0, 0, 1, 0, 0, 1, 1, 1, 1, 0, 1, 0, 0, 1, 0, 0, 0, 0, 1, 0, 1, 1, 1, 1, 1, 0, 0, 1, 0, 0, 1, 0, 1, 0, 1, 1, 1, 0, 0, 1, 1, 1, 1, 0, 0, 0, 0, 1, 0, 1, 1, 1, 0, 1, 0, 0, 1, 1, 0, 1, 0, 1, 1, 0, 1, 1, 1, 1, 1, 0, 1, 0, 1, 0, 0, 1, 0, 0, 0, 0, 1, 1, 1, 1, 0, 0, 0, 0, 0, 0, 1, 1, 0, 0, 0, 0, 0, 1, 1, 1, 0, 1, 1, 0, 0, 1, 0, 1, 0, 0, 0, 0, 0, 0, 1, 0, 1, 0, 0, 1, 1, 1, 0, 1, 0, 1, 0, 0, 1, 1, 1, 1, 0, 1, 1, 0, 0, 1, 1, 1, 0, 0, 1, 1, 1, 1, 0, 1, 0, 0, 0, 1, 0, 0, 0, 0, 0, 1, 0, 1, 0, 1, 0, 0, 1, 0, 1, 1, 1, 0, 1, 1, 0, 1, 0, 0, 0, 1, 0, 1, 1, 1, 0, 0, 1, 1, 1, 1, 1, 1, 1, 0, 0, 1, 1, 0, 0, 1, 1, 1, 0, 0, 0, 0, 1, 1, 0, 0, 1, 0, 1, 1, 1, 1, 1, 1, 0, 0, 0, 1, 0, 1, 1, 0, 1, 0, 0, 0, 0, 1, 0, 1, 0, 0, 0, 1, 0, 1, 0, 0, 0, 1, 1, 1, 0, 1, 0, 0, 1, 0, 1, 0, 1, 0, 1, 1, 0, 0, 1, 1, 0, 1, 0, 0, 1, 1, 1, 1, 0, 1, 1, 1, 0, 0, 0, 1, 1, 0, 0, 1, 1, 1, 1, 1, 0, 0, 1, 1, 0, 1, 1, 1, 1, 0, 1, 1, 1, 1, 0, 0, 1, 0, 0, 0, 1, 0, 1, 0, 1, 0, 1, 0, 0, 1, 0, 0, 1, 0, 1, 1, 1, 0, 1, 0, 0, 1, 0, 1, 1, 0, 1, 1, 0, 1, 0, 1, 0, 0, 0, 0, 1, 0, 1, 1, 0, 1, 1, 0, 0, 0, 1, 0, 1, 1, 1, 0, 1, 1, 0, 1, 1, 1, 0, 1, 0, 1, 0, 1, 1, 0, 0, 1, 0, 0, 0, 1, 0, 0, 0, 1, 0, 1, 1, 0, 1, 1, 0, 1, 0, 0, 0, 0, 1, 1, 0, 1, 1, 0, 1, 0, 0, 1, 0, 0, 1, 0, 1, 1, 1, 1, 1, 1, 0, 1, 1, 1, 1, 1, 1, 1, 0, 0, 0, 1, 1, 0, 0, 1, 0, 1, 0, 0, 0, 1, 1, 0, 0, 1, 0, 1, 1, 0, 1, 0, 0, 0, 1, 1, 0, 0, 1, 0, 0, 0, 0, 0, 1, 1, 0, 0, 0, 0, 1, 0, 0, 1, 1, 0, 0, 1, 1, 0, 1, 0, 0, 0, 0, 0, 1, 1, 0, 1, 0, 1, 1, 0, 1, 0, 0, 0, 1, 0, 1, 1, 1, 1, 1, 0, 1, 1, 0, 1, 1, 0, 1, 0, 0, 0, 1, 1, 1, 0, 0, 0, 1, 1, 1, 0, 1, 0, 0, 1, 0, 1, 1, 0, 0, 1, 0, 0, 0, 1, 0, 0, 1, 1, 1, 1, 0, 1, 1, 1, 0, 0, 0, 1, 1, 1, 1, 0, 0, 1, 1, 1, 0, 0, 1, 0, 0, 0, 0, 0, 0, 0, 1, 0, 1, 1, 0, 0, 0, 1, 1, 1, 0, 1, 0, 1, 0, 0, 0, 1, 0, 1, 1, 0, 1, 0, 0, 0, 0, 1, 1, 0, 1, 1, 0, 0, 1, 1, 0, 1, 1, 1, 1, 0, 1, 0, 1, 1, 1, 0, 0, 0, 0, 1, 0, 0, 0, 0, 1, 0, 0, 0, 0, 0, 1, 1, 1, 1, 1, 0, 0, 1, 1, 0, 0, 1, 0, 0, 0, 1, 0, 0, 0, 1, 0, 1, 0, 0, 1, 1, 0, 1, 0, 1, 0, 1, 1, 1, 0, 0, 0, 1, 0, 0, 0, 0, 0, 1, 1, 1, 1, 0, 1, 1, 1, 0, 0, 1, 1, 0, 1, 1, 1, 0, 1, 0, 0, 1, 0, 0, 1, 1, 0, 0, 1, 0, 0, 1, 1, 1, 1, 1, 1, 1, 1, 1, 0, 0, 0, 1, 0, 1, 0, 0, 0, 0, 1, 1, 1, 1, 0, 0, 1, 1, 0, 1, 1, 1, 1, 1, 0, 0, 1, 1, 1, 0, 1, 0, 0, 0, 1, 0, 0, 1, 0, 1, 0, 0, 0, 1, 0, 0, 1, 0, 1, 0, 1, 0, 0, 0, 0, 0, 0, 1, 0, 0, 0, 0, 1, 0, 0, 1, 0, 0, 1, 0, 0, 0, 0, 0, 1, 0]\n"
          ]
        }
      ]
    },
    {
      "cell_type": "code",
      "source": [
        "submit_df = pd.read_csv('/content/gdrive/MyDrive/ColabNotebooks/submit.csv')"
      ],
      "metadata": {
        "id": "EW3oiLxCuHbn"
      },
      "execution_count": 66,
      "outputs": []
    },
    {
      "cell_type": "code",
      "source": [
        "final_sub = pd.DataFrame()\n",
        "final_sub['id']=submit_df['id']\n",
        "final_sub['label'] = sentiments\n",
        "final_sub.to_csv('submission2.csv',index=False)"
      ],
      "metadata": {
        "id": "ld-Os8Oft9DP"
      },
      "execution_count": 68,
      "outputs": []
    },
    {
      "cell_type": "markdown",
      "source": [
        "![Screenshot 2024-05-16 123120.png](data:image/png;base64,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)"
      ],
      "metadata": {
        "id": "073LmbqewxHz"
      }
    },
    {
      "cell_type": "markdown",
      "source": [],
      "metadata": {
        "id": "oBiq18uDwy9B"
      }
    }
  ]
}